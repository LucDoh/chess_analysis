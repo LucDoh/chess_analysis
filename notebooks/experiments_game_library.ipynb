{
 "cells": [
  {
   "cell_type": "code",
   "execution_count": 25,
   "metadata": {},
   "outputs": [],
   "source": [
    "import sys\n",
    "import os\n",
    "import matplotlib.pyplot as plt\n",
    "os.chdir(\"..\")"
   ]
  },
  {
   "cell_type": "code",
   "execution_count": 2,
   "metadata": {},
   "outputs": [],
   "source": [
    "from chess_analytics.game_library import GameLibrary\n",
    "from chess_analytics.game_reader import GameReader"
   ]
  },
  {
   "cell_type": "markdown",
   "metadata": {},
   "source": [
    "### Read in library of games"
   ]
  },
  {
   "cell_type": "code",
   "execution_count": 3,
   "metadata": {},
   "outputs": [
    {
     "name": "stdout",
     "output_type": "stream",
     "text": [
      "Loading library (1969 files)...\n",
      "...loaded.\n",
      "\n"
     ]
    }
   ],
   "source": [
    "library = GameLibrary(\"data/user_games/Luc777\")"
   ]
  },
  {
   "cell_type": "code",
   "execution_count": 4,
   "metadata": {},
   "outputs": [
    {
     "data": {
      "text/html": [
       "<div>\n",
       "<style scoped>\n",
       "    .dataframe tbody tr th:only-of-type {\n",
       "        vertical-align: middle;\n",
       "    }\n",
       "\n",
       "    .dataframe tbody tr th {\n",
       "        vertical-align: top;\n",
       "    }\n",
       "\n",
       "    .dataframe thead th {\n",
       "        text-align: right;\n",
       "    }\n",
       "</style>\n",
       "<table border=\"1\" class=\"dataframe\">\n",
       "  <thead>\n",
       "    <tr style=\"text-align: right;\">\n",
       "      <th></th>\n",
       "      <th>White</th>\n",
       "      <th>Black</th>\n",
       "      <th>Result</th>\n",
       "      <th>WElo</th>\n",
       "      <th>BElo</th>\n",
       "      <th>ECO</th>\n",
       "      <th>Opening</th>\n",
       "      <th>Date</th>\n",
       "      <th>Time</th>\n",
       "      <th>id</th>\n",
       "      <th>fname</th>\n",
       "    </tr>\n",
       "  </thead>\n",
       "  <tbody>\n",
       "    <tr>\n",
       "      <th>1966</th>\n",
       "      <td>Luc777</td>\n",
       "      <td>annneverwins</td>\n",
       "      <td>0.0</td>\n",
       "      <td>1402</td>\n",
       "      <td>1381</td>\n",
       "      <td>C40</td>\n",
       "      <td>King's Knight Opening; C40 *</td>\n",
       "      <td>2011.08.22</td>\n",
       "      <td>300</td>\n",
       "      <td>https://www.chess.com/game/live/167183767</td>\n",
       "      <td>data/user_games/Luc777/2011/08/game_1.txt</td>\n",
       "    </tr>\n",
       "    <tr>\n",
       "      <th>1967</th>\n",
       "      <td>Luc777</td>\n",
       "      <td>MChamma8008</td>\n",
       "      <td>1.0</td>\n",
       "      <td>1151</td>\n",
       "      <td>991</td>\n",
       "      <td>C61</td>\n",
       "      <td>Bird Defense, Ruy Lopez; C61 *</td>\n",
       "      <td>2011.11.07</td>\n",
       "      <td>900</td>\n",
       "      <td>https://www.chess.com/game/live/201921420</td>\n",
       "      <td>data/user_games/Luc777/2011/11/game_0.txt</td>\n",
       "    </tr>\n",
       "    <tr>\n",
       "      <th>1968</th>\n",
       "      <td>MChamma8008</td>\n",
       "      <td>Luc777</td>\n",
       "      <td>0.0</td>\n",
       "      <td>1088</td>\n",
       "      <td>1395</td>\n",
       "      <td>C20</td>\n",
       "      <td>King Pawn Game; C20 *</td>\n",
       "      <td>2011.11.07</td>\n",
       "      <td>300</td>\n",
       "      <td>https://www.chess.com/game/live/201920733</td>\n",
       "      <td>data/user_games/Luc777/2011/11/game_1.txt</td>\n",
       "    </tr>\n",
       "  </tbody>\n",
       "</table>\n",
       "</div>"
      ],
      "text/plain": [
       "            White         Black  Result  WElo  BElo  ECO  \\\n",
       "1966       Luc777  annneverwins     0.0  1402  1381  C40   \n",
       "1967       Luc777   MChamma8008     1.0  1151   991  C61   \n",
       "1968  MChamma8008        Luc777     0.0  1088  1395  C20   \n",
       "\n",
       "                             Opening        Date Time  \\\n",
       "1966    King's Knight Opening; C40 *  2011.08.22  300   \n",
       "1967  Bird Defense, Ruy Lopez; C61 *  2011.11.07  900   \n",
       "1968           King Pawn Game; C20 *  2011.11.07  300   \n",
       "\n",
       "                                             id  \\\n",
       "1966  https://www.chess.com/game/live/167183767   \n",
       "1967  https://www.chess.com/game/live/201921420   \n",
       "1968  https://www.chess.com/game/live/201920733   \n",
       "\n",
       "                                          fname  \n",
       "1966  data/user_games/Luc777/2011/08/game_1.txt  \n",
       "1967  data/user_games/Luc777/2011/11/game_0.txt  \n",
       "1968  data/user_games/Luc777/2011/11/game_1.txt  "
      ]
     },
     "execution_count": 4,
     "metadata": {},
     "output_type": "execute_result"
    }
   ],
   "source": [
    "library.df.tail(3)"
   ]
  },
  {
   "cell_type": "markdown",
   "metadata": {},
   "source": [
    "### Winrates"
   ]
  },
  {
   "cell_type": "code",
   "execution_count": 14,
   "metadata": {},
   "outputs": [],
   "source": [
    "white_df = library.df[library.df['White'] == library.username]\n",
    "black_df = library.df[library.df['Black'] == library.username]\n",
    "black_wr = len(black_df[black_df['Result']==0])/len(black_df)\n",
    "white_wr = len(white_df[white_df['Result']==1])/len(white_df)\n",
    "return white_wr, black_wr"
   ]
  },
  {
   "cell_type": "code",
   "execution_count": 18,
   "metadata": {},
   "outputs": [
    {
     "data": {
      "text/plain": [
       "454"
      ]
     },
     "execution_count": 18,
     "metadata": {},
     "output_type": "execute_result"
    }
   ],
   "source": [
    "len(white_df[white_df['Result']==1.0])"
   ]
  },
  {
   "cell_type": "code",
   "execution_count": 20,
   "metadata": {},
   "outputs": [
    {
     "name": "stdout",
     "output_type": "stream",
     "text": [
      "469\n"
     ]
    }
   ],
   "source": [
    "print(len(black_df[black_df['Result']==0]))\n",
    "black_wr = len(black_df[black_df['Result']==0])/len(black_df)\n",
    "white_wr = len(white_df[white_df['Result']==1])/len(white_df)"
   ]
  },
  {
   "cell_type": "code",
   "execution_count": 22,
   "metadata": {},
   "outputs": [
    {
     "name": "stdout",
     "output_type": "stream",
     "text": [
      "0.4652777777777778\n"
     ]
    }
   ],
   "source": [
    "print(black_wr)"
   ]
  },
  {
   "cell_type": "code",
   "execution_count": 23,
   "metadata": {},
   "outputs": [
    {
     "name": "stdout",
     "output_type": "stream",
     "text": [
      "0.4724245577523413\n"
     ]
    }
   ],
   "source": [
    "print(white_wr)"
   ]
  },
  {
   "cell_type": "code",
   "execution_count": 37,
   "metadata": {},
   "outputs": [],
   "source": [
    "def plot_wrs(white_wr, black_wr):\n",
    "    \"\"\"Plot 2 bars, mean to represent white/black winrate.\"\"\"\n",
    "    fig, ax = plt.subplots()\n",
    "    ax.bar(['White'], [white_wr])\n",
    "    ax.bar(['Black'], [black_wr], color='purple')\n",
    "\n",
    "    ax.set_title(\"Win Rate by Color\")\n",
    "    ax.set_ylim(0,1.0)"
   ]
  },
  {
   "cell_type": "code",
   "execution_count": 42,
   "metadata": {},
   "outputs": [
    {
     "data": {
      "image/png": "[encoded data removed]",
      "text/plain": [
       "<Figure size 432x288 with 1 Axes>"
      ]
     },
     "metadata": {
      "needs_background": "light"
     },
     "output_type": "display_data"
    }
   ],
   "source": [
    "plot_wrs(white_wr, black_wr)"
   ]
  },
  {
   "cell_type": "markdown",
   "metadata": {},
   "source": [
    "### Working with openings"
   ]
  },
  {
   "cell_type": "code",
   "execution_count": 5,
   "metadata": {},
   "outputs": [
    {
     "name": "stdout",
     "output_type": "stream",
     "text": [
      "72\n",
      "1967\n",
      "CPU times: user 24.2 s, sys: 99.6 ms, total: 24.3 s\n",
      "Wall time: 24.3 s\n"
     ]
    }
   ],
   "source": [
    "%%time\n",
    "openings = library.opening_frequencies()"
   ]
  },
  {
   "cell_type": "code",
   "execution_count": 6,
   "metadata": {},
   "outputs": [
    {
     "name": "stdout",
     "output_type": "stream",
     "text": [
      "73\n",
      "1008\n"
     ]
    }
   ],
   "source": [
    "openings_bk = library.opening_frequencies(color='Black')"
   ]
  },
  {
   "cell_type": "code",
   "execution_count": 10,
   "metadata": {},
   "outputs": [
    {
     "data": {
      "text/plain": [
       "[('Scandinavian-Defense', 160),\n",
       " ('Kings-Pawn-Opening', 80),\n",
       " ('Queens-Pawn-Opening', 78),\n",
       " ('Indian-Game', 53),\n",
       " ('Ruy-Lopez-Opening-Morphy-Defense', 53),\n",
       " ('Four-Knights-Game', 48),\n",
       " ('Slav-Defense', 42),\n",
       " ('Italian-Game', 38),\n",
       " ('Alekhines-Defense-Scandinavian-Variation', 37),\n",
       " ('Bishops-Opening', 30)]"
      ]
     },
     "execution_count": 10,
     "metadata": {},
     "output_type": "execute_result"
    }
   ],
   "source": [
    "openings_bk[:10]"
   ]
  },
  {
   "cell_type": "code",
   "execution_count": 11,
   "metadata": {},
   "outputs": [
    {
     "name": "stdout",
     "output_type": "stream",
     "text": [
      "52\n",
      "959\n"
     ]
    }
   ],
   "source": [
    "openings_wh = library.opening_frequencies(color='White')"
   ]
  },
  {
   "cell_type": "code",
   "execution_count": 12,
   "metadata": {},
   "outputs": [
    {
     "data": {
      "text/plain": [
       "[('Sicilian-Defense', 171),\n",
       " ('Kings-Pawn-Opening', 118),\n",
       " ('Scotch', 118),\n",
       " ('Philidor-Defense', 109),\n",
       " ('Scandinavian-Defense', 66),\n",
       " ('Italian-Game', 60),\n",
       " ('Ruy-Lopez-Opening', 43),\n",
       " ('French-Defense-Normal-Variation', 29),\n",
       " ('Pirc-Defense', 29),\n",
       " ('Modern-Defense-with', 28)]"
      ]
     },
     "execution_count": 12,
     "metadata": {},
     "output_type": "execute_result"
    }
   ],
   "source": [
    "openings_wh[:10]"
   ]
  },
  {
   "cell_type": "code",
   "execution_count": 7,
   "metadata": {},
   "outputs": [
    {
     "data": {
      "text/plain": [
       "'Luc777'"
      ]
     },
     "execution_count": 7,
     "metadata": {},
     "output_type": "execute_result"
    }
   ],
   "source": [
    "library.username"
   ]
  },
  {
   "cell_type": "code",
   "execution_count": 13,
   "metadata": {},
   "outputs": [],
   "source": [
    "%matplotlib notebook\n",
    "def plot_openings(opening_freqs):\n",
    "    fig, ax = plt.subplots(figsize=(8,5))\n",
    "    ax.barh([o[0] for o in opening_freqs],\n",
    "           [o[1] for o in opening_freqs])\n",
    "    for tick in ax.get_xticklabels():\n",
    "        tick.set_rotation(45)\n",
    "    ax.invert_yaxis()\n"
   ]
  },
  {
   "cell_type": "code",
   "execution_count": 14,
   "metadata": {},
   "outputs": [
    {
     "data": {
      "application/javascript": [
       "/* Put everything inside the global mpl namespace */\n",
       "/* global mpl */\n",
       "window.mpl = {};\n",
       "\n",
       "mpl.get_websocket_type = function () {\n",
       "    if (typeof WebSocket !== 'undefined') {\n",
       "        return WebSocket;\n",
       "    } else if (typeof MozWebSocket !== 'undefined') {\n",
       "        return MozWebSocket;\n",
       "    } else {\n",
       "        alert(\n",
       "            'Your browser does not have WebSocket support. ' +\n",
       "                'Please try Chrome, Safari or Firefox ≥ 6. ' +\n",
       "                'Firefox 4 and 5 are also supported but you ' +\n",
       "                'have to enable WebSockets in about:config.'\n",
       "        );\n",
       "    }\n",
       "};\n",
       "\n",
       "mpl.figure = function (figure_id, websocket, ondownload, parent_element) {\n",
       "    this.id = figure_id;\n",
       "\n",
       "    this.ws = websocket;\n",
       "\n",
       "    this.supports_binary = this.ws.binaryType !== undefined;\n",
       "\n",
       "    if (!this.supports_binary) {\n",
       "        var warnings = document.getElementById('mpl-warnings');\n",
       "        if (warnings) {\n",
       "            warnings.style.display = 'block';\n",
       "            warnings.textContent =\n",
       "                'This browser does not support binary websocket messages. ' +\n",
       "                'Performance may be slow.';\n",
       "        }\n",
       "    }\n",
       "\n",
       "    this.imageObj = new Image();\n",
       "\n",
       "    this.context = undefined;\n",
       "    this.message = undefined;\n",
       "    this.canvas = undefined;\n",
       "    this.rubberband_canvas = undefined;\n",
       "    this.rubberband_context = undefined;\n",
       "    this.format_dropdown = undefined;\n",
       "\n",
       "    this.image_mode = 'full';\n",
       "\n",
       "    this.root = document.createElement('div');\n",
       "    this.root.setAttribute('style', 'display: inline-block');\n",
       "    this._root_extra_style(this.root);\n",
       "\n",
       "    parent_element.appendChild(this.root);\n",
       "\n",
       "    this._init_header(this);\n",
       "    this._init_canvas(this);\n",
       "    this._init_toolbar(this);\n",
       "\n",
       "    var fig = this;\n",
       "\n",
       "    this.waiting = false;\n",
       "\n",
       "    this.ws.onopen = function () {\n",
       "        fig.send_message('supports_binary', { value: fig.supports_binary });\n",
       "        fig.send_message('send_image_mode', {});\n",
       "        if (fig.ratio !== 1) {\n",
       "            fig.send_message('set_dpi_ratio', { dpi_ratio: fig.ratio });\n",
       "        }\n",
       "        fig.send_message('refresh', {});\n",
       "    };\n",
       "\n",
       "    this.imageObj.onload = function () {\n",
       "        if (fig.image_mode === 'full') {\n",
       "            // Full images could contain transparency (where diff images\n",
       "            // almost always do), so we need to clear the canvas so that\n",
       "            // there is no ghosting.\n",
       "            fig.context.clearRect(0, 0, fig.canvas.width, fig.canvas.height);\n",
       "        }\n",
       "        fig.context.drawImage(fig.imageObj, 0, 0);\n",
       "    };\n",
       "\n",
       "    this.imageObj.onunload = function () {\n",
       "        fig.ws.close();\n",
       "    };\n",
       "\n",
       "    this.ws.onmessage = this._make_on_message_function(this);\n",
       "\n",
       "    this.ondownload = ondownload;\n",
       "};\n",
       "\n",
       "mpl.figure.prototype._init_header = function () {\n",
       "    var titlebar = document.createElement('div');\n",
       "    titlebar.classList =\n",
       "        'ui-dialog-titlebar ui-widget-header ui-corner-all ui-helper-clearfix';\n",
       "    var titletext = document.createElement('div');\n",
       "    titletext.classList = 'ui-dialog-title';\n",
       "    titletext.setAttribute(\n",
       "        'style',\n",
       "        'width: 100%; text-align: center; padding: 3px;'\n",
       "    );\n",
       "    titlebar.appendChild(titletext);\n",
       "    this.root.appendChild(titlebar);\n",
       "    this.header = titletext;\n",
       "};\n",
       "\n",
       "mpl.figure.prototype._canvas_extra_style = function (_canvas_div) {};\n",
       "\n",
       "mpl.figure.prototype._root_extra_style = function (_canvas_div) {};\n",
       "\n",
       "mpl.figure.prototype._init_canvas = function () {\n",
       "    var fig = this;\n",
       "\n",
       "    var canvas_div = (this.canvas_div = document.createElement('div'));\n",
       "    canvas_div.setAttribute(\n",
       "        'style',\n",
       "        'border: 1px solid #ddd;' +\n",
       "            'box-sizing: content-box;' +\n",
       "            'clear: both;' +\n",
       "            'min-height: 1px;' +\n",
       "            'min-width: 1px;' +\n",
       "            'outline: 0;' +\n",
       "            'overflow: hidden;' +\n",
       "            'position: relative;' +\n",
       "            'resize: both;'\n",
       "    );\n",
       "\n",
       "    function on_keyboard_event_closure(name) {\n",
       "        return function (event) {\n",
       "            return fig.key_event(event, name);\n",
       "        };\n",
       "    }\n",
       "\n",
       "    canvas_div.addEventListener(\n",
       "        'keydown',\n",
       "        on_keyboard_event_closure('key_press')\n",
       "    );\n",
       "    canvas_div.addEventListener(\n",
       "        'keyup',\n",
       "        on_keyboard_event_closure('key_release')\n",
       "    );\n",
       "\n",
       "    this._canvas_extra_style(canvas_div);\n",
       "    this.root.appendChild(canvas_div);\n",
       "\n",
       "    var canvas = (this.canvas = document.createElement('canvas'));\n",
       "    canvas.classList.add('mpl-canvas');\n",
       "    canvas.setAttribute('style', 'box-sizing: content-box;');\n",
       "\n",
       "    this.context = canvas.getContext('2d');\n",
       "\n",
       "    var backingStore =\n",
       "        this.context.backingStorePixelRatio ||\n",
       "        this.context.webkitBackingStorePixelRatio ||\n",
       "        this.context.mozBackingStorePixelRatio ||\n",
       "        this.context.msBackingStorePixelRatio ||\n",
       "        this.context.oBackingStorePixelRatio ||\n",
       "        this.context.backingStorePixelRatio ||\n",
       "        1;\n",
       "\n",
       "    this.ratio = (window.devicePixelRatio || 1) / backingStore;\n",
       "    if (this.ratio !== 1) {\n",
       "        fig.send_message('set_dpi_ratio', { dpi_ratio: this.ratio });\n",
       "    }\n",
       "\n",
       "    var rubberband_canvas = (this.rubberband_canvas = document.createElement(\n",
       "        'canvas'\n",
       "    ));\n",
       "    rubberband_canvas.setAttribute(\n",
       "        'style',\n",
       "        'box-sizing: content-box; position: absolute; left: 0; top: 0; z-index: 1;'\n",
       "    );\n",
       "\n",
       "    // Apply a ponyfill if ResizeObserver is not implemented by browser.\n",
       "    if (this.ResizeObserver === undefined) {\n",
       "        if (window.ResizeObserver !== undefined) {\n",
       "            this.ResizeObserver = window.ResizeObserver;\n",
       "        } else {\n",
       "            var obs = _JSXTOOLS_RESIZE_OBSERVER({});\n",
       "            this.ResizeObserver = obs.ResizeObserver;\n",
       "        }\n",
       "    }\n",
       "\n",
       "    this.resizeObserverInstance = new this.ResizeObserver(function (entries) {\n",
       "        var nentries = entries.length;\n",
       "        for (var i = 0; i < nentries; i++) {\n",
       "            var entry = entries[i];\n",
       "            var width, height;\n",
       "            if (entry.contentBoxSize) {\n",
       "                if (entry.contentBoxSize instanceof Array) {\n",
       "                    // Chrome 84 implements new version of spec.\n",
       "                    width = entry.contentBoxSize[0].inlineSize;\n",
       "                    height = entry.contentBoxSize[0].blockSize;\n",
       "                } else {\n",
       "                    // Firefox implements old version of spec.\n",
       "                    width = entry.contentBoxSize.inlineSize;\n",
       "                    height = entry.contentBoxSize.blockSize;\n",
       "                }\n",
       "            } else {\n",
       "                // Chrome <84 implements even older version of spec.\n",
       "                width = entry.contentRect.width;\n",
       "                height = entry.contentRect.height;\n",
       "            }\n",
       "\n",
       "            // Keep the size of the canvas and rubber band canvas in sync with\n",
       "            // the canvas container.\n",
       "            if (entry.devicePixelContentBoxSize) {\n",
       "                // Chrome 84 implements new version of spec.\n",
       "                canvas.setAttribute(\n",
       "                    'width',\n",
       "                    entry.devicePixelContentBoxSize[0].inlineSize\n",
       "                );\n",
       "                canvas.setAttribute(\n",
       "                    'height',\n",
       "                    entry.devicePixelContentBoxSize[0].blockSize\n",
       "                );\n",
       "            } else {\n",
       "                canvas.setAttribute('width', width * fig.ratio);\n",
       "                canvas.setAttribute('height', height * fig.ratio);\n",
       "            }\n",
       "            canvas.setAttribute(\n",
       "                'style',\n",
       "                'width: ' + width + 'px; height: ' + height + 'px;'\n",
       "            );\n",
       "\n",
       "            rubberband_canvas.setAttribute('width', width);\n",
       "            rubberband_canvas.setAttribute('height', height);\n",
       "\n",
       "            // And update the size in Python. We ignore the initial 0/0 size\n",
       "            // that occurs as the element is placed into the DOM, which should\n",
       "            // otherwise not happen due to the minimum size styling.\n",
       "            if (width != 0 && height != 0) {\n",
       "                fig.request_resize(width, height);\n",
       "            }\n",
       "        }\n",
       "    });\n",
       "    this.resizeObserverInstance.observe(canvas_div);\n",
       "\n",
       "    function on_mouse_event_closure(name) {\n",
       "        return function (event) {\n",
       "            return fig.mouse_event(event, name);\n",
       "        };\n",
       "    }\n",
       "\n",
       "    rubberband_canvas.addEventListener(\n",
       "        'mousedown',\n",
       "        on_mouse_event_closure('button_press')\n",
       "    );\n",
       "    rubberband_canvas.addEventListener(\n",
       "        'mouseup',\n",
       "        on_mouse_event_closure('button_release')\n",
       "    );\n",
       "    // Throttle sequential mouse events to 1 every 20ms.\n",
       "    rubberband_canvas.addEventListener(\n",
       "        'mousemove',\n",
       "        on_mouse_event_closure('motion_notify')\n",
       "    );\n",
       "\n",
       "    rubberband_canvas.addEventListener(\n",
       "        'mouseenter',\n",
       "        on_mouse_event_closure('figure_enter')\n",
       "    );\n",
       "    rubberband_canvas.addEventListener(\n",
       "        'mouseleave',\n",
       "        on_mouse_event_closure('figure_leave')\n",
       "    );\n",
       "\n",
       "    canvas_div.addEventListener('wheel', function (event) {\n",
       "        if (event.deltaY < 0) {\n",
       "            event.step = 1;\n",
       "        } else {\n",
       "            event.step = -1;\n",
       "        }\n",
       "        on_mouse_event_closure('scroll')(event);\n",
       "    });\n",
       "\n",
       "    canvas_div.appendChild(canvas);\n",
       "    canvas_div.appendChild(rubberband_canvas);\n",
       "\n",
       "    this.rubberband_context = rubberband_canvas.getContext('2d');\n",
       "    this.rubberband_context.strokeStyle = '#000000';\n",
       "\n",
       "    this._resize_canvas = function (width, height, forward) {\n",
       "        if (forward) {\n",
       "            canvas_div.style.width = width + 'px';\n",
       "            canvas_div.style.height = height + 'px';\n",
       "        }\n",
       "    };\n",
       "\n",
       "    // Disable right mouse context menu.\n",
       "    this.rubberband_canvas.addEventListener('contextmenu', function (_e) {\n",
       "        event.preventDefault();\n",
       "        return false;\n",
       "    });\n",
       "\n",
       "    function set_focus() {\n",
       "        canvas.focus();\n",
       "        canvas_div.focus();\n",
       "    }\n",
       "\n",
       "    window.setTimeout(set_focus, 100);\n",
       "};\n",
       "\n",
       "mpl.figure.prototype._init_toolbar = function () {\n",
       "    var fig = this;\n",
       "\n",
       "    var toolbar = document.createElement('div');\n",
       "    toolbar.classList = 'mpl-toolbar';\n",
       "    this.root.appendChild(toolbar);\n",
       "\n",
       "    function on_click_closure(name) {\n",
       "        return function (_event) {\n",
       "            return fig.toolbar_button_onclick(name);\n",
       "        };\n",
       "    }\n",
       "\n",
       "    function on_mouseover_closure(tooltip) {\n",
       "        return function (event) {\n",
       "            if (!event.currentTarget.disabled) {\n",
       "                return fig.toolbar_button_onmouseover(tooltip);\n",
       "            }\n",
       "        };\n",
       "    }\n",
       "\n",
       "    fig.buttons = {};\n",
       "    var buttonGroup = document.createElement('div');\n",
       "    buttonGroup.classList = 'mpl-button-group';\n",
       "    for (var toolbar_ind in mpl.toolbar_items) {\n",
       "        var name = mpl.toolbar_items[toolbar_ind][0];\n",
       "        var tooltip = mpl.toolbar_items[toolbar_ind][1];\n",
       "        var image = mpl.toolbar_items[toolbar_ind][2];\n",
       "        var method_name = mpl.toolbar_items[toolbar_ind][3];\n",
       "\n",
       "        if (!name) {\n",
       "            /* Instead of a spacer, we start a new button group. */\n",
       "            if (buttonGroup.hasChildNodes()) {\n",
       "                toolbar.appendChild(buttonGroup);\n",
       "            }\n",
       "            buttonGroup = document.createElement('div');\n",
       "            buttonGroup.classList = 'mpl-button-group';\n",
       "            continue;\n",
       "        }\n",
       "\n",
       "        var button = (fig.buttons[name] = document.createElement('button'));\n",
       "        button.classList = 'mpl-widget';\n",
       "        button.setAttribute('role', 'button');\n",
       "        button.setAttribute('aria-disabled', 'false');\n",
       "        button.addEventListener('click', on_click_closure(method_name));\n",
       "        button.addEventListener('mouseover', on_mouseover_closure(tooltip));\n",
       "\n",
       "        var icon_img = document.createElement('img');\n",
       "        icon_img.src = '_images/' + image + '.png';\n",
       "        icon_img.srcset = '_images/' + image + '_large.png 2x';\n",
       "        icon_img.alt = tooltip;\n",
       "        button.appendChild(icon_img);\n",
       "\n",
       "        buttonGroup.appendChild(button);\n",
       "    }\n",
       "\n",
       "    if (buttonGroup.hasChildNodes()) {\n",
       "        toolbar.appendChild(buttonGroup);\n",
       "    }\n",
       "\n",
       "    var fmt_picker = document.createElement('select');\n",
       "    fmt_picker.classList = 'mpl-widget';\n",
       "    toolbar.appendChild(fmt_picker);\n",
       "    this.format_dropdown = fmt_picker;\n",
       "\n",
       "    for (var ind in mpl.extensions) {\n",
       "        var fmt = mpl.extensions[ind];\n",
       "        var option = document.createElement('option');\n",
       "        option.selected = fmt === mpl.default_extension;\n",
       "        option.innerHTML = fmt;\n",
       "        fmt_picker.appendChild(option);\n",
       "    }\n",
       "\n",
       "    var status_bar = document.createElement('span');\n",
       "    status_bar.classList = 'mpl-message';\n",
       "    toolbar.appendChild(status_bar);\n",
       "    this.message = status_bar;\n",
       "};\n",
       "\n",
       "mpl.figure.prototype.request_resize = function (x_pixels, y_pixels) {\n",
       "    // Request matplotlib to resize the figure. Matplotlib will then trigger a resize in the client,\n",
       "    // which will in turn request a refresh of the image.\n",
       "    this.send_message('resize', { width: x_pixels, height: y_pixels });\n",
       "};\n",
       "\n",
       "mpl.figure.prototype.send_message = function (type, properties) {\n",
       "    properties['type'] = type;\n",
       "    properties['figure_id'] = this.id;\n",
       "    this.ws.send(JSON.stringify(properties));\n",
       "};\n",
       "\n",
       "mpl.figure.prototype.send_draw_message = function () {\n",
       "    if (!this.waiting) {\n",
       "        this.waiting = true;\n",
       "        this.ws.send(JSON.stringify({ type: 'draw', figure_id: this.id }));\n",
       "    }\n",
       "};\n",
       "\n",
       "mpl.figure.prototype.handle_save = function (fig, _msg) {\n",
       "    var format_dropdown = fig.format_dropdown;\n",
       "    var format = format_dropdown.options[format_dropdown.selectedIndex].value;\n",
       "    fig.ondownload(fig, format);\n",
       "};\n",
       "\n",
       "mpl.figure.prototype.handle_resize = function (fig, msg) {\n",
       "    var size = msg['size'];\n",
       "    if (size[0] !== fig.canvas.width || size[1] !== fig.canvas.height) {\n",
       "        fig._resize_canvas(size[0], size[1], msg['forward']);\n",
       "        fig.send_message('refresh', {});\n",
       "    }\n",
       "};\n",
       "\n",
       "mpl.figure.prototype.handle_rubberband = function (fig, msg) {\n",
       "    var x0 = msg['x0'] / fig.ratio;\n",
       "    var y0 = (fig.canvas.height - msg['y0']) / fig.ratio;\n",
       "    var x1 = msg['x1'] / fig.ratio;\n",
       "    var y1 = (fig.canvas.height - msg['y1']) / fig.ratio;\n",
       "    x0 = Math.floor(x0) + 0.5;\n",
       "    y0 = Math.floor(y0) + 0.5;\n",
       "    x1 = Math.floor(x1) + 0.5;\n",
       "    y1 = Math.floor(y1) + 0.5;\n",
       "    var min_x = Math.min(x0, x1);\n",
       "    var min_y = Math.min(y0, y1);\n",
       "    var width = Math.abs(x1 - x0);\n",
       "    var height = Math.abs(y1 - y0);\n",
       "\n",
       "    fig.rubberband_context.clearRect(\n",
       "        0,\n",
       "        0,\n",
       "        fig.canvas.width / fig.ratio,\n",
       "        fig.canvas.height / fig.ratio\n",
       "    );\n",
       "\n",
       "    fig.rubberband_context.strokeRect(min_x, min_y, width, height);\n",
       "};\n",
       "\n",
       "mpl.figure.prototype.handle_figure_label = function (fig, msg) {\n",
       "    // Updates the figure title.\n",
       "    fig.header.textContent = msg['label'];\n",
       "};\n",
       "\n",
       "mpl.figure.prototype.handle_cursor = function (fig, msg) {\n",
       "    var cursor = msg['cursor'];\n",
       "    switch (cursor) {\n",
       "        case 0:\n",
       "            cursor = 'pointer';\n",
       "            break;\n",
       "        case 1:\n",
       "            cursor = 'default';\n",
       "            break;\n",
       "        case 2:\n",
       "            cursor = 'crosshair';\n",
       "            break;\n",
       "        case 3:\n",
       "            cursor = 'move';\n",
       "            break;\n",
       "    }\n",
       "    fig.rubberband_canvas.style.cursor = cursor;\n",
       "};\n",
       "\n",
       "mpl.figure.prototype.handle_message = function (fig, msg) {\n",
       "    fig.message.textContent = msg['message'];\n",
       "};\n",
       "\n",
       "mpl.figure.prototype.handle_draw = function (fig, _msg) {\n",
       "    // Request the server to send over a new figure.\n",
       "    fig.send_draw_message();\n",
       "};\n",
       "\n",
       "mpl.figure.prototype.handle_image_mode = function (fig, msg) {\n",
       "    fig.image_mode = msg['mode'];\n",
       "};\n",
       "\n",
       "mpl.figure.prototype.handle_history_buttons = function (fig, msg) {\n",
       "    for (var key in msg) {\n",
       "        if (!(key in fig.buttons)) {\n",
       "            continue;\n",
       "        }\n",
       "        fig.buttons[key].disabled = !msg[key];\n",
       "        fig.buttons[key].setAttribute('aria-disabled', !msg[key]);\n",
       "    }\n",
       "};\n",
       "\n",
       "mpl.figure.prototype.handle_navigate_mode = function (fig, msg) {\n",
       "    if (msg['mode'] === 'PAN') {\n",
       "        fig.buttons['Pan'].classList.add('active');\n",
       "        fig.buttons['Zoom'].classList.remove('active');\n",
       "    } else if (msg['mode'] === 'ZOOM') {\n",
       "        fig.buttons['Pan'].classList.remove('active');\n",
       "        fig.buttons['Zoom'].classList.add('active');\n",
       "    } else {\n",
       "        fig.buttons['Pan'].classList.remove('active');\n",
       "        fig.buttons['Zoom'].classList.remove('active');\n",
       "    }\n",
       "};\n",
       "\n",
       "mpl.figure.prototype.updated_canvas_event = function () {\n",
       "    // Called whenever the canvas gets updated.\n",
       "    this.send_message('ack', {});\n",
       "};\n",
       "\n",
       "// A function to construct a web socket function for onmessage handling.\n",
       "// Called in the figure constructor.\n",
       "mpl.figure.prototype._make_on_message_function = function (fig) {\n",
       "    return function socket_on_message(evt) {\n",
       "        if (evt.data instanceof Blob) {\n",
       "            /* FIXME: We get \"Resource interpreted as Image but\n",
       "             * transferred with MIME type text/plain:\" errors on\n",
       "             * Chrome.  But how to set the MIME type?  It doesn't seem\n",
       "             * to be part of the websocket stream */\n",
       "            evt.data.type = 'image/png';\n",
       "\n",
       "            /* Free the memory for the previous frames */\n",
       "            if (fig.imageObj.src) {\n",
       "                (window.URL || window.webkitURL).revokeObjectURL(\n",
       "                    fig.imageObj.src\n",
       "                );\n",
       "            }\n",
       "\n",
       "            fig.imageObj.src = (window.URL || window.webkitURL).createObjectURL(\n",
       "                evt.data\n",
       "            );\n",
       "            fig.updated_canvas_event();\n",
       "            fig.waiting = false;\n",
       "            return;\n",
       "        } else if (\n",
       "            typeof evt.data === 'string' &&\n",
       "            evt.data.slice(0, 21) === 'data:image/png;base64'\n",
       "        ) {\n",
       "            fig.imageObj.src = evt.data;\n",
       "            fig.updated_canvas_event();\n",
       "            fig.waiting = false;\n",
       "            return;\n",
       "        }\n",
       "\n",
       "        var msg = JSON.parse(evt.data);\n",
       "        var msg_type = msg['type'];\n",
       "\n",
       "        // Call the  \"handle_{type}\" callback, which takes\n",
       "        // the figure and JSON message as its only arguments.\n",
       "        try {\n",
       "            var callback = fig['handle_' + msg_type];\n",
       "        } catch (e) {\n",
       "            console.log(\n",
       "                \"No handler for the '\" + msg_type + \"' message type: \",\n",
       "                msg\n",
       "            );\n",
       "            return;\n",
       "        }\n",
       "\n",
       "        if (callback) {\n",
       "            try {\n",
       "                // console.log(\"Handling '\" + msg_type + \"' message: \", msg);\n",
       "                callback(fig, msg);\n",
       "            } catch (e) {\n",
       "                console.log(\n",
       "                    \"Exception inside the 'handler_\" + msg_type + \"' callback:\",\n",
       "                    e,\n",
       "                    e.stack,\n",
       "                    msg\n",
       "                );\n",
       "            }\n",
       "        }\n",
       "    };\n",
       "};\n",
       "\n",
       "// from http://stackoverflow.com/questions/1114465/getting-mouse-location-in-canvas\n",
       "mpl.findpos = function (e) {\n",
       "    //this section is from http://www.quirksmode.org/js/events_properties.html\n",
       "    var targ;\n",
       "    if (!e) {\n",
       "        e = window.event;\n",
       "    }\n",
       "    if (e.target) {\n",
       "        targ = e.target;\n",
       "    } else if (e.srcElement) {\n",
       "        targ = e.srcElement;\n",
       "    }\n",
       "    if (targ.nodeType === 3) {\n",
       "        // defeat Safari bug\n",
       "        targ = targ.parentNode;\n",
       "    }\n",
       "\n",
       "    // pageX,Y are the mouse positions relative to the document\n",
       "    var boundingRect = targ.getBoundingClientRect();\n",
       "    var x = e.pageX - (boundingRect.left + document.body.scrollLeft);\n",
       "    var y = e.pageY - (boundingRect.top + document.body.scrollTop);\n",
       "\n",
       "    return { x: x, y: y };\n",
       "};\n",
       "\n",
       "/*\n",
       " * return a copy of an object with only non-object keys\n",
       " * we need this to avoid circular references\n",
       " * http://stackoverflow.com/a/24161582/3208463\n",
       " */\n",
       "function simpleKeys(original) {\n",
       "    return Object.keys(original).reduce(function (obj, key) {\n",
       "        if (typeof original[key] !== 'object') {\n",
       "            obj[key] = original[key];\n",
       "        }\n",
       "        return obj;\n",
       "    }, {});\n",
       "}\n",
       "\n",
       "mpl.figure.prototype.mouse_event = function (event, name) {\n",
       "    var canvas_pos = mpl.findpos(event);\n",
       "\n",
       "    if (name === 'button_press') {\n",
       "        this.canvas.focus();\n",
       "        this.canvas_div.focus();\n",
       "    }\n",
       "\n",
       "    var x = canvas_pos.x * this.ratio;\n",
       "    var y = canvas_pos.y * this.ratio;\n",
       "\n",
       "    this.send_message(name, {\n",
       "        x: x,\n",
       "        y: y,\n",
       "        button: event.button,\n",
       "        step: event.step,\n",
       "        guiEvent: simpleKeys(event),\n",
       "    });\n",
       "\n",
       "    /* This prevents the web browser from automatically changing to\n",
       "     * the text insertion cursor when the button is pressed.  We want\n",
       "     * to control all of the cursor setting manually through the\n",
       "     * 'cursor' event from matplotlib */\n",
       "    event.preventDefault();\n",
       "    return false;\n",
       "};\n",
       "\n",
       "mpl.figure.prototype._key_event_extra = function (_event, _name) {\n",
       "    // Handle any extra behaviour associated with a key event\n",
       "};\n",
       "\n",
       "mpl.figure.prototype.key_event = function (event, name) {\n",
       "    // Prevent repeat events\n",
       "    if (name === 'key_press') {\n",
       "        if (event.which === this._key) {\n",
       "            return;\n",
       "        } else {\n",
       "            this._key = event.which;\n",
       "        }\n",
       "    }\n",
       "    if (name === 'key_release') {\n",
       "        this._key = null;\n",
       "    }\n",
       "\n",
       "    var value = '';\n",
       "    if (event.ctrlKey && event.which !== 17) {\n",
       "        value += 'ctrl+';\n",
       "    }\n",
       "    if (event.altKey && event.which !== 18) {\n",
       "        value += 'alt+';\n",
       "    }\n",
       "    if (event.shiftKey && event.which !== 16) {\n",
       "        value += 'shift+';\n",
       "    }\n",
       "\n",
       "    value += 'k';\n",
       "    value += event.which.toString();\n",
       "\n",
       "    this._key_event_extra(event, name);\n",
       "\n",
       "    this.send_message(name, { key: value, guiEvent: simpleKeys(event) });\n",
       "    return false;\n",
       "};\n",
       "\n",
       "mpl.figure.prototype.toolbar_button_onclick = function (name) {\n",
       "    if (name === 'download') {\n",
       "        this.handle_save(this, null);\n",
       "    } else {\n",
       "        this.send_message('toolbar_button', { name: name });\n",
       "    }\n",
       "};\n",
       "\n",
       "mpl.figure.prototype.toolbar_button_onmouseover = function (tooltip) {\n",
       "    this.message.textContent = tooltip;\n",
       "};\n",
       "\n",
       "///////////////// REMAINING CONTENT GENERATED BY embed_js.py /////////////////\n",
       "// prettier-ignore\n",
       "var _JSXTOOLS_RESIZE_OBSERVER=function(A){var t,i=new WeakMap,n=new WeakMap,a=new WeakMap,r=new WeakMap,o=new Set;function s(e){if(!(this instanceof s))throw new TypeError(\"Constructor requires 'new' operator\");i.set(this,e)}function h(){throw new TypeError(\"Function is not a constructor\")}function c(e,t,i,n){e=0 in arguments?Number(arguments[0]):0,t=1 in arguments?Number(arguments[1]):0,i=2 in arguments?Number(arguments[2]):0,n=3 in arguments?Number(arguments[3]):0,this.right=(this.x=this.left=e)+(this.width=i),this.bottom=(this.y=this.top=t)+(this.height=n),Object.freeze(this)}function d(){t=requestAnimationFrame(d);var s=new WeakMap,p=new Set;o.forEach((function(t){r.get(t).forEach((function(i){var r=t instanceof window.SVGElement,o=a.get(t),d=r?0:parseFloat(o.paddingTop),f=r?0:parseFloat(o.paddingRight),l=r?0:parseFloat(o.paddingBottom),u=r?0:parseFloat(o.paddingLeft),g=r?0:parseFloat(o.borderTopWidth),m=r?0:parseFloat(o.borderRightWidth),w=r?0:parseFloat(o.borderBottomWidth),b=u+f,F=d+l,v=(r?0:parseFloat(o.borderLeftWidth))+m,W=g+w,y=r?0:t.offsetHeight-W-t.clientHeight,E=r?0:t.offsetWidth-v-t.clientWidth,R=b+v,z=F+W,M=r?t.width:parseFloat(o.width)-R-E,O=r?t.height:parseFloat(o.height)-z-y;if(n.has(t)){var k=n.get(t);if(k[0]===M&&k[1]===O)return}n.set(t,[M,O]);var S=Object.create(h.prototype);S.target=t,S.contentRect=new c(u,d,M,O),s.has(i)||(s.set(i,[]),p.add(i)),s.get(i).push(S)}))})),p.forEach((function(e){i.get(e).call(e,s.get(e),e)}))}return s.prototype.observe=function(i){if(i instanceof window.Element){r.has(i)||(r.set(i,new Set),o.add(i),a.set(i,window.getComputedStyle(i)));var n=r.get(i);n.has(this)||n.add(this),cancelAnimationFrame(t),t=requestAnimationFrame(d)}},s.prototype.unobserve=function(i){if(i instanceof window.Element&&r.has(i)){var n=r.get(i);n.has(this)&&(n.delete(this),n.size||(r.delete(i),o.delete(i))),n.size||r.delete(i),o.size||cancelAnimationFrame(t)}},A.DOMRectReadOnly=c,A.ResizeObserver=s,A.ResizeObserverEntry=h,A}; // eslint-disable-line\n",
       "mpl.toolbar_items = [[\"Home\", \"Reset original view\", \"fa fa-home icon-home\", \"home\"], [\"Back\", \"Back to previous view\", \"fa fa-arrow-left icon-arrow-left\", \"back\"], [\"Forward\", \"Forward to next view\", \"fa fa-arrow-right icon-arrow-right\", \"forward\"], [\"\", \"\", \"\", \"\"], [\"Pan\", \"Left button pans, Right button zooms\\nx/y fixes axis, CTRL fixes aspect\", \"fa fa-arrows icon-move\", \"pan\"], [\"Zoom\", \"Zoom to rectangle\\nx/y fixes axis, CTRL fixes aspect\", \"fa fa-square-o icon-check-empty\", \"zoom\"], [\"\", \"\", \"\", \"\"], [\"Download\", \"Download plot\", \"fa fa-floppy-o icon-save\", \"download\"]];\n",
       "\n",
       "mpl.extensions = [\"eps\", \"jpeg\", \"pdf\", \"png\", \"ps\", \"raw\", \"svg\", \"tif\"];\n",
       "\n",
       "mpl.default_extension = \"png\";/* global mpl */\n",
       "\n",
       "var comm_websocket_adapter = function (comm) {\n",
       "    // Create a \"websocket\"-like object which calls the given IPython comm\n",
       "    // object with the appropriate methods. Currently this is a non binary\n",
       "    // socket, so there is still some room for performance tuning.\n",
       "    var ws = {};\n",
       "\n",
       "    ws.close = function () {\n",
       "        comm.close();\n",
       "    };\n",
       "    ws.send = function (m) {\n",
       "        //console.log('sending', m);\n",
       "        comm.send(m);\n",
       "    };\n",
       "    // Register the callback with on_msg.\n",
       "    comm.on_msg(function (msg) {\n",
       "        //console.log('receiving', msg['content']['data'], msg);\n",
       "        // Pass the mpl event to the overridden (by mpl) onmessage function.\n",
       "        ws.onmessage(msg['content']['data']);\n",
       "    });\n",
       "    return ws;\n",
       "};\n",
       "\n",
       "mpl.mpl_figure_comm = function (comm, msg) {\n",
       "    // This is the function which gets called when the mpl process\n",
       "    // starts-up an IPython Comm through the \"matplotlib\" channel.\n",
       "\n",
       "    var id = msg.content.data.id;\n",
       "    // Get hold of the div created by the display call when the Comm\n",
       "    // socket was opened in Python.\n",
       "    var element = document.getElementById(id);\n",
       "    var ws_proxy = comm_websocket_adapter(comm);\n",
       "\n",
       "    function ondownload(figure, _format) {\n",
       "        window.open(figure.canvas.toDataURL());\n",
       "    }\n",
       "\n",
       "    var fig = new mpl.figure(id, ws_proxy, ondownload, element);\n",
       "\n",
       "    // Call onopen now - mpl needs it, as it is assuming we've passed it a real\n",
       "    // web socket which is closed, not our websocket->open comm proxy.\n",
       "    ws_proxy.onopen();\n",
       "\n",
       "    fig.parent_element = element;\n",
       "    fig.cell_info = mpl.find_output_cell(\"<div id='\" + id + \"'></div>\");\n",
       "    if (!fig.cell_info) {\n",
       "        console.error('Failed to find cell for figure', id, fig);\n",
       "        return;\n",
       "    }\n",
       "    fig.cell_info[0].output_area.element.on(\n",
       "        'cleared',\n",
       "        { fig: fig },\n",
       "        fig._remove_fig_handler\n",
       "    );\n",
       "};\n",
       "\n",
       "mpl.figure.prototype.handle_close = function (fig, msg) {\n",
       "    var width = fig.canvas.width / fig.ratio;\n",
       "    fig.cell_info[0].output_area.element.off(\n",
       "        'cleared',\n",
       "        fig._remove_fig_handler\n",
       "    );\n",
       "    fig.resizeObserverInstance.unobserve(fig.canvas_div);\n",
       "\n",
       "    // Update the output cell to use the data from the current canvas.\n",
       "    fig.push_to_output();\n",
       "    var dataURL = fig.canvas.toDataURL();\n",
       "    // Re-enable the keyboard manager in IPython - without this line, in FF,\n",
       "    // the notebook keyboard shortcuts fail.\n",
       "    IPython.keyboard_manager.enable();\n",
       "    fig.parent_element.innerHTML =\n",
       "        '<img src=\"' + dataURL + '\" width=\"' + width + '\">';\n",
       "    fig.close_ws(fig, msg);\n",
       "};\n",
       "\n",
       "mpl.figure.prototype.close_ws = function (fig, msg) {\n",
       "    fig.send_message('closing', msg);\n",
       "    // fig.ws.close()\n",
       "};\n",
       "\n",
       "mpl.figure.prototype.push_to_output = function (_remove_interactive) {\n",
       "    // Turn the data on the canvas into data in the output cell.\n",
       "    var width = this.canvas.width / this.ratio;\n",
       "    var dataURL = this.canvas.toDataURL();\n",
       "    this.cell_info[1]['text/html'] =\n",
       "        '<img src=\"' + dataURL + '\" width=\"' + width + '\">';\n",
       "};\n",
       "\n",
       "mpl.figure.prototype.updated_canvas_event = function () {\n",
       "    // Tell IPython that the notebook contents must change.\n",
       "    IPython.notebook.set_dirty(true);\n",
       "    this.send_message('ack', {});\n",
       "    var fig = this;\n",
       "    // Wait a second, then push the new image to the DOM so\n",
       "    // that it is saved nicely (might be nice to debounce this).\n",
       "    setTimeout(function () {\n",
       "        fig.push_to_output();\n",
       "    }, 1000);\n",
       "};\n",
       "\n",
       "mpl.figure.prototype._init_toolbar = function () {\n",
       "    var fig = this;\n",
       "\n",
       "    var toolbar = document.createElement('div');\n",
       "    toolbar.classList = 'btn-toolbar';\n",
       "    this.root.appendChild(toolbar);\n",
       "\n",
       "    function on_click_closure(name) {\n",
       "        return function (_event) {\n",
       "            return fig.toolbar_button_onclick(name);\n",
       "        };\n",
       "    }\n",
       "\n",
       "    function on_mouseover_closure(tooltip) {\n",
       "        return function (event) {\n",
       "            if (!event.currentTarget.disabled) {\n",
       "                return fig.toolbar_button_onmouseover(tooltip);\n",
       "            }\n",
       "        };\n",
       "    }\n",
       "\n",
       "    fig.buttons = {};\n",
       "    var buttonGroup = document.createElement('div');\n",
       "    buttonGroup.classList = 'btn-group';\n",
       "    var button;\n",
       "    for (var toolbar_ind in mpl.toolbar_items) {\n",
       "        var name = mpl.toolbar_items[toolbar_ind][0];\n",
       "        var tooltip = mpl.toolbar_items[toolbar_ind][1];\n",
       "        var image = mpl.toolbar_items[toolbar_ind][2];\n",
       "        var method_name = mpl.toolbar_items[toolbar_ind][3];\n",
       "\n",
       "        if (!name) {\n",
       "            /* Instead of a spacer, we start a new button group. */\n",
       "            if (buttonGroup.hasChildNodes()) {\n",
       "                toolbar.appendChild(buttonGroup);\n",
       "            }\n",
       "            buttonGroup = document.createElement('div');\n",
       "            buttonGroup.classList = 'btn-group';\n",
       "            continue;\n",
       "        }\n",
       "\n",
       "        button = fig.buttons[name] = document.createElement('button');\n",
       "        button.classList = 'btn btn-default';\n",
       "        button.href = '#';\n",
       "        button.title = name;\n",
       "        button.innerHTML = '<i class=\"fa ' + image + ' fa-lg\"></i>';\n",
       "        button.addEventListener('click', on_click_closure(method_name));\n",
       "        button.addEventListener('mouseover', on_mouseover_closure(tooltip));\n",
       "        buttonGroup.appendChild(button);\n",
       "    }\n",
       "\n",
       "    if (buttonGroup.hasChildNodes()) {\n",
       "        toolbar.appendChild(buttonGroup);\n",
       "    }\n",
       "\n",
       "    // Add the status bar.\n",
       "    var status_bar = document.createElement('span');\n",
       "    status_bar.classList = 'mpl-message pull-right';\n",
       "    toolbar.appendChild(status_bar);\n",
       "    this.message = status_bar;\n",
       "\n",
       "    // Add the close button to the window.\n",
       "    var buttongrp = document.createElement('div');\n",
       "    buttongrp.classList = 'btn-group inline pull-right';\n",
       "    button = document.createElement('button');\n",
       "    button.classList = 'btn btn-mini btn-primary';\n",
       "    button.href = '#';\n",
       "    button.title = 'Stop Interaction';\n",
       "    button.innerHTML = '<i class=\"fa fa-power-off icon-remove icon-large\"></i>';\n",
       "    button.addEventListener('click', function (_evt) {\n",
       "        fig.handle_close(fig, {});\n",
       "    });\n",
       "    button.addEventListener(\n",
       "        'mouseover',\n",
       "        on_mouseover_closure('Stop Interaction')\n",
       "    );\n",
       "    buttongrp.appendChild(button);\n",
       "    var titlebar = this.root.querySelector('.ui-dialog-titlebar');\n",
       "    titlebar.insertBefore(buttongrp, titlebar.firstChild);\n",
       "};\n",
       "\n",
       "mpl.figure.prototype._remove_fig_handler = function (event) {\n",
       "    var fig = event.data.fig;\n",
       "    if (event.target !== this) {\n",
       "        // Ignore bubbled events from children.\n",
       "        return;\n",
       "    }\n",
       "    fig.close_ws(fig, {});\n",
       "};\n",
       "\n",
       "mpl.figure.prototype._root_extra_style = function (el) {\n",
       "    el.style.boxSizing = 'content-box'; // override notebook setting of border-box.\n",
       "};\n",
       "\n",
       "mpl.figure.prototype._canvas_extra_style = function (el) {\n",
       "    // this is important to make the div 'focusable\n",
       "    el.setAttribute('tabindex', 0);\n",
       "    // reach out to IPython and tell the keyboard manager to turn it's self\n",
       "    // off when our div gets focus\n",
       "\n",
       "    // location in version 3\n",
       "    if (IPython.notebook.keyboard_manager) {\n",
       "        IPython.notebook.keyboard_manager.register_events(el);\n",
       "    } else {\n",
       "        // location in version 2\n",
       "        IPython.keyboard_manager.register_events(el);\n",
       "    }\n",
       "};\n",
       "\n",
       "mpl.figure.prototype._key_event_extra = function (event, _name) {\n",
       "    var manager = IPython.notebook.keyboard_manager;\n",
       "    if (!manager) {\n",
       "        manager = IPython.keyboard_manager;\n",
       "    }\n",
       "\n",
       "    // Check for shift+enter\n",
       "    if (event.shiftKey && event.which === 13) {\n",
       "        this.canvas_div.blur();\n",
       "        // select the cell after this one\n",
       "        var index = IPython.notebook.find_cell_index(this.cell_info[0]);\n",
       "        IPython.notebook.select(index + 1);\n",
       "    }\n",
       "};\n",
       "\n",
       "mpl.figure.prototype.handle_save = function (fig, _msg) {\n",
       "    fig.ondownload(fig, null);\n",
       "};\n",
       "\n",
       "mpl.find_output_cell = function (html_output) {\n",
       "    // Return the cell and output element which can be found *uniquely* in the notebook.\n",
       "    // Note - this is a bit hacky, but it is done because the \"notebook_saving.Notebook\"\n",
       "    // IPython event is triggered only after the cells have been serialised, which for\n",
       "    // our purposes (turning an active figure into a static one), is too late.\n",
       "    var cells = IPython.notebook.get_cells();\n",
       "    var ncells = cells.length;\n",
       "    for (var i = 0; i < ncells; i++) {\n",
       "        var cell = cells[i];\n",
       "        if (cell.cell_type === 'code') {\n",
       "            for (var j = 0; j < cell.output_area.outputs.length; j++) {\n",
       "                var data = cell.output_area.outputs[j];\n",
       "                if (data.data) {\n",
       "                    // IPython >= 3 moved mimebundle to data attribute of output\n",
       "                    data = data.data;\n",
       "                }\n",
       "                if (data['text/html'] === html_output) {\n",
       "                    return [cell, data, j];\n",
       "                }\n",
       "            }\n",
       "        }\n",
       "    }\n",
       "};\n",
       "\n",
       "// Register the function which deals with the matplotlib target/channel.\n",
       "// The kernel may be null if the page has been refreshed.\n",
       "if (IPython.notebook.kernel !== null) {\n",
       "    IPython.notebook.kernel.comm_manager.register_target(\n",
       "        'matplotlib',\n",
       "        mpl.mpl_figure_comm\n",
       "    );\n",
       "}\n"
      ],
      "text/plain": [
       "<IPython.core.display.Javascript object>"
      ]
     },
     "metadata": {},
     "output_type": "display_data"
    },
    {
     "data": {
      "text/html": [
       "<img src=\"data:image/png;base64,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\" width=\"800\">"
      ],
      "text/plain": [
       "<IPython.core.display.HTML object>"
      ]
     },
     "metadata": {},
     "output_type": "display_data"
    }
   ],
   "source": [
    "plot_openings(openings[:20])"
   ]
  },
  {
   "cell_type": "code",
   "execution_count": 34,
   "metadata": {},
   "outputs": [
    {
     "data": {
      "text/plain": [
       "'https://www.chess.com/openings/Scandinavian-Defense-Mieses-Kotrc-Main-Line'"
      ]
     },
     "execution_count": 34,
     "metadata": {},
     "output_type": "execute_result"
    }
   ],
   "source": [
    "ops[np.argmax(ops_counts)]"
   ]
  },
  {
   "cell_type": "code",
   "execution_count": 33,
   "metadata": {},
   "outputs": [
    {
     "data": {
      "text/plain": [
       "440"
      ]
     },
     "execution_count": 33,
     "metadata": {},
     "output_type": "execute_result"
    }
   ],
   "source": [
    "f = lambda i: ops_counts[i]\n",
    "max(range(len(ops_counts)), key=f)"
   ]
  },
  {
   "cell_type": "code",
   "execution_count": null,
   "metadata": {},
   "outputs": [],
   "source": []
  },
  {
   "cell_type": "code",
   "execution_count": 10,
   "metadata": {},
   "outputs": [
    {
     "data": {
      "text/plain": [
       "'Kings-Pawn-Opening-Kings-Knight-Variation'"
      ]
     },
     "execution_count": 10,
     "metadata": {},
     "output_type": "execute_result"
    }
   ],
   "source": [
    "game.headers['ECOUrl'].split('/')[-1]"
   ]
  },
  {
   "cell_type": "code",
   "execution_count": 18,
   "metadata": {},
   "outputs": [
    {
     "data": {
      "text/plain": [
       "['__class__',\n",
       " '__delattr__',\n",
       " '__dict__',\n",
       " '__dir__',\n",
       " '__doc__',\n",
       " '__eq__',\n",
       " '__format__',\n",
       " '__ge__',\n",
       " '__getattribute__',\n",
       " '__gt__',\n",
       " '__hash__',\n",
       " '__init__',\n",
       " '__init_subclass__',\n",
       " '__le__',\n",
       " '__lt__',\n",
       " '__module__',\n",
       " '__ne__',\n",
       " '__new__',\n",
       " '__reduce__',\n",
       " '__reduce_ex__',\n",
       " '__repr__',\n",
       " '__setattr__',\n",
       " '__sizeof__',\n",
       " '__str__',\n",
       " '__subclasshook__',\n",
       " '__weakref__',\n",
       " 'clean_pgn',\n",
       " 'date',\n",
       " 'describe',\n",
       " 'df_eco',\n",
       " 'df_nic',\n",
       " 'eco_code',\n",
       " 'eco_to_nic_opening',\n",
       " 'eco_to_opening',\n",
       " 'fgame',\n",
       " 'game',\n",
       " 'get_result',\n",
       " 'headers',\n",
       " 'infer_date',\n",
       " 'load_eco_table',\n",
       " 'load_nic_table',\n",
       " 'moves',\n",
       " 'opening',\n",
       " 'parse_moves',\n",
       " 'parse_pgn',\n",
       " 'pgn',\n",
       " 'print_game',\n",
       " 'read_game',\n",
       " 'result',\n",
       " 'summarize',\n",
       " 'time_control']"
      ]
     },
     "execution_count": 18,
     "metadata": {},
     "output_type": "execute_result"
    }
   ],
   "source": [
    "dir(game)"
   ]
  },
  {
   "cell_type": "code",
   "execution_count": 14,
   "metadata": {},
   "outputs": [
    {
     "data": {
      "text/plain": [
       "\"King's Knight Opening; C40 *\""
      ]
     },
     "execution_count": 14,
     "metadata": {},
     "output_type": "execute_result"
    }
   ],
   "source": [
    "game.opening"
   ]
  },
  {
   "cell_type": "code",
   "execution_count": 8,
   "metadata": {},
   "outputs": [
    {
     "data": {
      "text/plain": [
       "White                                         Luc777\n",
       "Black                                   annneverwins\n",
       "Result                                             0\n",
       "WElo                                            1402\n",
       "BElo                                            1381\n",
       "ECO                                              C40\n",
       "Opening                 King's Knight Opening; C40 *\n",
       "Date                                      2011.08.22\n",
       "Time                                             300\n",
       "id         https://www.chess.com/game/live/167183767\n",
       "fname      data/user_games/Luc777/2011/08/game_1.txt\n",
       "Name: 1966, dtype: object"
      ]
     },
     "execution_count": 8,
     "metadata": {},
     "output_type": "execute_result"
    }
   ],
   "source": [
    "library.df.iloc[1966]"
   ]
  },
  {
   "cell_type": "markdown",
   "metadata": {},
   "source": [
    "### Random Game "
   ]
  },
  {
   "cell_type": "code",
   "execution_count": 52,
   "metadata": {},
   "outputs": [
    {
     "data": {
      "text/plain": [
       "'Classical Variation, Italian; C53 *'"
      ]
     },
     "execution_count": 52,
     "metadata": {},
     "output_type": "execute_result"
    }
   ],
   "source": [
    "game_rnd.opening"
   ]
  },
  {
   "cell_type": "code",
   "execution_count": 53,
   "metadata": {},
   "outputs": [
    {
     "data": {
      "text/plain": [
       "'1. e4 e5 2. Nf3 Nc6 3. d4 exd4 4. Bc4 Bc5 5. c3 Nf6 6. cxd4 Bb4+ 7. Bd2 Bxd2+ 8. Nbxd2 O-O 9. Qb3 Qe7 10. O-O Na5 11. Qc3 Nxc4 12. Qxc4 d6 13. Rac1 c6 14. d5 Bd7 15. Rfe1 Qd8 16. e5 cxd5 17. Qh4 dxe5 18. Rxe5 Re8 19. Rce1 Qc7 20. Rxe8+ Rxe8 21. Rxe8+ Bxe8 22. h3 Qc2 23. Kh2 Qxb2 24. Qa4 Bxa4 25. Ne5 Qxe5+ 26. g3 Nh5 27. Nf3 Qb2 28. h4 Nxg3 29. Kxg3 Qxa2 30. Kh3 Qb3'"
      ]
     },
     "execution_count": 53,
     "metadata": {},
     "output_type": "execute_result"
    }
   ],
   "source": [
    "str(game_rnd)"
   ]
  },
  {
   "cell_type": "code",
   "execution_count": 54,
   "metadata": {},
   "outputs": [
    {
     "data": {
      "text/plain": [
       "['e4',\n",
       " 'e5',\n",
       " 'Nf3',\n",
       " 'Nc6',\n",
       " 'd4',\n",
       " 'exd4',\n",
       " 'Bc4',\n",
       " 'Bc5',\n",
       " 'c3',\n",
       " 'Nf6',\n",
       " 'cxd4',\n",
       " 'Bb4+',\n",
       " 'Bd2',\n",
       " 'Bxd2+',\n",
       " 'Nbxd2',\n",
       " 'O-O',\n",
       " 'Qb3',\n",
       " 'Qe7',\n",
       " 'O-O',\n",
       " 'Na5',\n",
       " 'Qc3',\n",
       " 'Nxc4',\n",
       " 'Qxc4',\n",
       " 'd6',\n",
       " 'Rac1',\n",
       " 'c6',\n",
       " 'd5',\n",
       " 'Bd7',\n",
       " 'Rfe1',\n",
       " 'Qd8',\n",
       " 'e5',\n",
       " 'cxd5',\n",
       " 'Qh4',\n",
       " 'dxe5',\n",
       " 'Rxe5',\n",
       " 'Re8',\n",
       " 'Rce1',\n",
       " 'Qc7',\n",
       " 'Rxe8+',\n",
       " 'Rxe8',\n",
       " 'Rxe8+',\n",
       " 'Bxe8',\n",
       " 'h3',\n",
       " 'Qc2',\n",
       " 'Kh2',\n",
       " 'Qxb2',\n",
       " 'Qa4',\n",
       " 'Bxa4',\n",
       " 'Ne5',\n",
       " 'Qxe5+',\n",
       " 'g3',\n",
       " 'Nh5',\n",
       " 'Nf3',\n",
       " 'Qb2',\n",
       " 'h4',\n",
       " 'Nxg3',\n",
       " 'Kxg3',\n",
       " 'Qxa2',\n",
       " 'Kh3',\n",
       " 'Qb3']"
      ]
     },
     "execution_count": 54,
     "metadata": {},
     "output_type": "execute_result"
    }
   ],
   "source": [
    "game_rnd.moves"
   ]
  },
  {
   "cell_type": "code",
   "execution_count": 7,
   "metadata": {},
   "outputs": [],
   "source": [
    "def play_nth_move(game, n):\n",
    "    board = game.board()\n",
    "    moves = list(game.mainline_moves())\n",
    "    for move in moves[:n]:\n",
    "        board.push(move)\n",
    "    return board"
   ]
  },
  {
   "cell_type": "code",
   "execution_count": 8,
   "metadata": {},
   "outputs": [
    {
     "data": {
      "image/svg+xml": [
       "<svg xmlns=\"http://www.w3.org/2000/svg\" version=\"1.1\" xmlns:xlink=\"http://www.w3.org/1999/xlink\" viewBox=\"0 0 390 390\" width=\"390\" height=\"390\"><defs><g id=\"white-pawn\" class=\"white pawn\"><path d=\"M22 9c-2.21 0-4 1.79-4 4 0 .89.29 1.71.78 2.38-1.95 1.12-3.28 3.21-3.28 5.62 0 2.03.94 3.84 2.41 5.03-3 1.06-7.41 5.55-7.41 13.47h23c0-7.92-4.41-12.41-7.41-13.47 1.47-1.19 2.41-3 2.41-5.03 0-2.41-1.33-4.5-3.28-5.62.49-.67.78-1.49.78-2.38 0-2.21-1.79-4-4-4z\" fill=\"#fff\" stroke=\"#000\" stroke-width=\"1.5\" stroke-linecap=\"round\" /></g><g id=\"white-knight\" class=\"white knight\" fill=\"none\" fill-rule=\"evenodd\" stroke=\"#000\" stroke-width=\"1.5\" stroke-linecap=\"round\" stroke-linejoin=\"round\"><path d=\"M 22,10 C 32.5,11 38.5,18 38,39 L 15,39 C 15,30 25,32.5 23,18\" style=\"fill:#ffffff; stroke:#000000;\" /><path d=\"M 24,18 C 24.38,20.91 18.45,25.37 16,27 C 13,29 13.18,31.34 11,31 C 9.958,30.06 12.41,27.96 11,28 C 10,28 11.19,29.23 10,30 C 9,30 5.997,31 6,26 C 6,24 12,14 12,14 C 12,14 13.89,12.1 14,10.5 C 13.27,9.506 13.5,8.5 13.5,7.5 C 14.5,6.5 16.5,10 16.5,10 L 18.5,10 C 18.5,10 19.28,8.008 21,7 C 22,7 22,10 22,10\" style=\"fill:#ffffff; stroke:#000000;\" /><path d=\"M 9.5 25.5 A 0.5 0.5 0 1 1 8.5,25.5 A 0.5 0.5 0 1 1 9.5 25.5 z\" style=\"fill:#000000; stroke:#000000;\" /><path d=\"M 15 15.5 A 0.5 1.5 0 1 1 14,15.5 A 0.5 1.5 0 1 1 15 15.5 z\" transform=\"matrix(0.866,0.5,-0.5,0.866,9.693,-5.173)\" style=\"fill:#000000; stroke:#000000;\" /></g><g id=\"white-bishop\" class=\"white bishop\" fill=\"none\" fill-rule=\"evenodd\" stroke=\"#000\" stroke-width=\"1.5\" stroke-linecap=\"round\" stroke-linejoin=\"round\"><g fill=\"#fff\" stroke-linecap=\"butt\"><path d=\"M9 36c3.39-.97 10.11.43 13.5-2 3.39 2.43 10.11 1.03 13.5 2 0 0 1.65.54 3 2-.68.97-1.65.99-3 .5-3.39-.97-10.11.46-13.5-1-3.39 1.46-10.11.03-13.5 1-1.354.49-2.323.47-3-.5 1.354-1.94 3-2 3-2zM15 32c2.5 2.5 12.5 2.5 15 0 .5-1.5 0-2 0-2 0-2.5-2.5-4-2.5-4 5.5-1.5 6-11.5-5-15.5-11 4-10.5 14-5 15.5 0 0-2.5 1.5-2.5 4 0 0-.5.5 0 2zM25 8a2.5 2.5 0 1 1-5 0 2.5 2.5 0 1 1 5 0z\" /></g><path d=\"M17.5 26h10M15 30h15m-7.5-14.5v5M20 18h5\" stroke-linejoin=\"miter\" /></g><g id=\"white-rook\" class=\"white rook\" fill=\"#fff\" fill-rule=\"evenodd\" stroke=\"#000\" stroke-width=\"1.5\" stroke-linecap=\"round\" stroke-linejoin=\"round\"><path d=\"M9 39h27v-3H9v3zM12 36v-4h21v4H12zM11 14V9h4v2h5V9h5v2h5V9h4v5\" stroke-linecap=\"butt\" /><path d=\"M34 14l-3 3H14l-3-3\" /><path d=\"M31 17v12.5H14V17\" stroke-linecap=\"butt\" stroke-linejoin=\"miter\" /><path d=\"M31 29.5l1.5 2.5h-20l1.5-2.5\" /><path d=\"M11 14h23\" fill=\"none\" stroke-linejoin=\"miter\" /></g><g id=\"white-queen\" class=\"white queen\" fill=\"#fff\" fill-rule=\"evenodd\" stroke=\"#000\" stroke-width=\"1.5\" stroke-linecap=\"round\" stroke-linejoin=\"round\"><path d=\"M8 12a2 2 0 1 1-4 0 2 2 0 1 1 4 0zM24.5 7.5a2 2 0 1 1-4 0 2 2 0 1 1 4 0zM41 12a2 2 0 1 1-4 0 2 2 0 1 1 4 0zM16 8.5a2 2 0 1 1-4 0 2 2 0 1 1 4 0zM33 9a2 2 0 1 1-4 0 2 2 0 1 1 4 0z\" /><path d=\"M9 26c8.5-1.5 21-1.5 27 0l2-12-7 11V11l-5.5 13.5-3-15-3 15-5.5-14V25L7 14l2 12zM9 26c0 2 1.5 2 2.5 4 1 1.5 1 1 .5 3.5-1.5 1-1.5 2.5-1.5 2.5-1.5 1.5.5 2.5.5 2.5 6.5 1 16.5 1 23 0 0 0 1.5-1 0-2.5 0 0 .5-1.5-1-2.5-.5-2.5-.5-2 .5-3.5 1-2 2.5-2 2.5-4-8.5-1.5-18.5-1.5-27 0z\" stroke-linecap=\"butt\" /><path d=\"M11.5 30c3.5-1 18.5-1 22 0M12 33.5c6-1 15-1 21 0\" fill=\"none\" /></g><g id=\"white-king\" class=\"white king\" fill=\"none\" fill-rule=\"evenodd\" stroke=\"#000\" stroke-width=\"1.5\" stroke-linecap=\"round\" stroke-linejoin=\"round\"><path d=\"M22.5 11.63V6M20 8h5\" stroke-linejoin=\"miter\" /><path d=\"M22.5 25s4.5-7.5 3-10.5c0 0-1-2.5-3-2.5s-3 2.5-3 2.5c-1.5 3 3 10.5 3 10.5\" fill=\"#fff\" stroke-linecap=\"butt\" stroke-linejoin=\"miter\" /><path d=\"M11.5 37c5.5 3.5 15.5 3.5 21 0v-7s9-4.5 6-10.5c-4-6.5-13.5-3.5-16 4V27v-3.5c-3.5-7.5-13-10.5-16-4-3 6 5 10 5 10V37z\" fill=\"#fff\" /><path d=\"M11.5 30c5.5-3 15.5-3 21 0m-21 3.5c5.5-3 15.5-3 21 0m-21 3.5c5.5-3 15.5-3 21 0\" /></g><g id=\"black-pawn\" class=\"black pawn\"><path d=\"M22 9c-2.21 0-4 1.79-4 4 0 .89.29 1.71.78 2.38-1.95 1.12-3.28 3.21-3.28 5.62 0 2.03.94 3.84 2.41 5.03-3 1.06-7.41 5.55-7.41 13.47h23c0-7.92-4.41-12.41-7.41-13.47 1.47-1.19 2.41-3 2.41-5.03 0-2.41-1.33-4.5-3.28-5.62.49-.67.78-1.49.78-2.38 0-2.21-1.79-4-4-4z\" stroke=\"#000\" stroke-width=\"1.5\" stroke-linecap=\"round\" /></g><g id=\"black-knight\" class=\"black knight\" fill=\"none\" fill-rule=\"evenodd\" stroke=\"#000\" stroke-width=\"1.5\" stroke-linecap=\"round\" stroke-linejoin=\"round\"><path d=\"M 22,10 C 32.5,11 38.5,18 38,39 L 15,39 C 15,30 25,32.5 23,18\" style=\"fill:#000000; stroke:#000000;\" /><path d=\"M 24,18 C 24.38,20.91 18.45,25.37 16,27 C 13,29 13.18,31.34 11,31 C 9.958,30.06 12.41,27.96 11,28 C 10,28 11.19,29.23 10,30 C 9,30 5.997,31 6,26 C 6,24 12,14 12,14 C 12,14 13.89,12.1 14,10.5 C 13.27,9.506 13.5,8.5 13.5,7.5 C 14.5,6.5 16.5,10 16.5,10 L 18.5,10 C 18.5,10 19.28,8.008 21,7 C 22,7 22,10 22,10\" style=\"fill:#000000; stroke:#000000;\" /><path d=\"M 9.5 25.5 A 0.5 0.5 0 1 1 8.5,25.5 A 0.5 0.5 0 1 1 9.5 25.5 z\" style=\"fill:#ececec; stroke:#ececec;\" /><path d=\"M 15 15.5 A 0.5 1.5 0 1 1 14,15.5 A 0.5 1.5 0 1 1 15 15.5 z\" transform=\"matrix(0.866,0.5,-0.5,0.866,9.693,-5.173)\" style=\"fill:#ececec; stroke:#ececec;\" /><path d=\"M 24.55,10.4 L 24.1,11.85 L 24.6,12 C 27.75,13 30.25,14.49 32.5,18.75 C 34.75,23.01 35.75,29.06 35.25,39 L 35.2,39.5 L 37.45,39.5 L 37.5,39 C 38,28.94 36.62,22.15 34.25,17.66 C 31.88,13.17 28.46,11.02 25.06,10.5 L 24.55,10.4 z \" style=\"fill:#ececec; stroke:none;\" /></g><g id=\"black-bishop\" class=\"black bishop\" fill=\"none\" fill-rule=\"evenodd\" stroke=\"#000\" stroke-width=\"1.5\" stroke-linecap=\"round\" stroke-linejoin=\"round\"><path d=\"M9 36c3.39-.97 10.11.43 13.5-2 3.39 2.43 10.11 1.03 13.5 2 0 0 1.65.54 3 2-.68.97-1.65.99-3 .5-3.39-.97-10.11.46-13.5-1-3.39 1.46-10.11.03-13.5 1-1.354.49-2.323.47-3-.5 1.354-1.94 3-2 3-2zm6-4c2.5 2.5 12.5 2.5 15 0 .5-1.5 0-2 0-2 0-2.5-2.5-4-2.5-4 5.5-1.5 6-11.5-5-15.5-11 4-10.5 14-5 15.5 0 0-2.5 1.5-2.5 4 0 0-.5.5 0 2zM25 8a2.5 2.5 0 1 1-5 0 2.5 2.5 0 1 1 5 0z\" fill=\"#000\" stroke-linecap=\"butt\" /><path d=\"M17.5 26h10M15 30h15m-7.5-14.5v5M20 18h5\" stroke=\"#fff\" stroke-linejoin=\"miter\" /></g><g id=\"black-rook\" class=\"black rook\" fill=\"#000\" fill-rule=\"evenodd\" stroke=\"#000\" stroke-width=\"1.5\" stroke-linecap=\"round\" stroke-linejoin=\"round\"><path d=\"M9 39h27v-3H9v3zM12.5 32l1.5-2.5h17l1.5 2.5h-20zM12 36v-4h21v4H12z\" stroke-linecap=\"butt\" /><path d=\"M14 29.5v-13h17v13H14z\" stroke-linecap=\"butt\" stroke-linejoin=\"miter\" /><path d=\"M14 16.5L11 14h23l-3 2.5H14zM11 14V9h4v2h5V9h5v2h5V9h4v5H11z\" stroke-linecap=\"butt\" /><path d=\"M12 35.5h21M13 31.5h19M14 29.5h17M14 16.5h17M11 14h23\" fill=\"none\" stroke=\"#fff\" stroke-width=\"1\" stroke-linejoin=\"miter\" /></g><g id=\"black-queen\" class=\"black queen\" fill=\"#000\" fill-rule=\"evenodd\" stroke=\"#000\" stroke-width=\"1.5\" stroke-linecap=\"round\" stroke-linejoin=\"round\"><g fill=\"#000\" stroke=\"none\"><circle cx=\"6\" cy=\"12\" r=\"2.75\" /><circle cx=\"14\" cy=\"9\" r=\"2.75\" /><circle cx=\"22.5\" cy=\"8\" r=\"2.75\" /><circle cx=\"31\" cy=\"9\" r=\"2.75\" /><circle cx=\"39\" cy=\"12\" r=\"2.75\" /></g><path d=\"M9 26c8.5-1.5 21-1.5 27 0l2.5-12.5L31 25l-.3-14.1-5.2 13.6-3-14.5-3 14.5-5.2-13.6L14 25 6.5 13.5 9 26zM9 26c0 2 1.5 2 2.5 4 1 1.5 1 1 .5 3.5-1.5 1-1.5 2.5-1.5 2.5-1.5 1.5.5 2.5.5 2.5 6.5 1 16.5 1 23 0 0 0 1.5-1 0-2.5 0 0 .5-1.5-1-2.5-.5-2.5-.5-2 .5-3.5 1-2 2.5-2 2.5-4-8.5-1.5-18.5-1.5-27 0z\" stroke-linecap=\"butt\" /><path d=\"M11 38.5a35 35 1 0 0 23 0\" fill=\"none\" stroke-linecap=\"butt\" /><path d=\"M11 29a35 35 1 0 1 23 0M12.5 31.5h20M11.5 34.5a35 35 1 0 0 22 0M10.5 37.5a35 35 1 0 0 24 0\" fill=\"none\" stroke=\"#fff\" /></g><g id=\"black-king\" class=\"black king\" fill=\"none\" fill-rule=\"evenodd\" stroke=\"#000\" stroke-width=\"1.5\" stroke-linecap=\"round\" stroke-linejoin=\"round\"><path d=\"M22.5 11.63V6\" stroke-linejoin=\"miter\" /><path d=\"M22.5 25s4.5-7.5 3-10.5c0 0-1-2.5-3-2.5s-3 2.5-3 2.5c-1.5 3 3 10.5 3 10.5\" fill=\"#000\" stroke-linecap=\"butt\" stroke-linejoin=\"miter\" /><path d=\"M11.5 37c5.5 3.5 15.5 3.5 21 0v-7s9-4.5 6-10.5c-4-6.5-13.5-3.5-16 4V27v-3.5c-3.5-7.5-13-10.5-16-4-3 6 5 10 5 10V37z\" fill=\"#000\" /><path d=\"M20 8h5\" stroke-linejoin=\"miter\" /><path d=\"M32 29.5s8.5-4 6.03-9.65C34.15 14 25 18 22.5 24.5l.01 2.1-.01-2.1C20 18 9.906 14 6.997 19.85c-2.497 5.65 4.853 9 4.853 9M11.5 30c5.5-3 15.5-3 21 0m-21 3.5c5.5-3 15.5-3 21 0m-21 3.5c5.5-3 15.5-3 21 0\" stroke=\"#fff\" /></g></defs><rect x=\"0\" y=\"0\" width=\"390\" height=\"390\" fill=\"#212121\" /><rect x=\"15\" y=\"330\" width=\"45\" height=\"45\" class=\"square dark a1\" stroke=\"none\" fill=\"#d18b47\" /><use xlink:href=\"#white-rook\" transform=\"translate(15, 330)\" /><rect x=\"60\" y=\"330\" width=\"45\" height=\"45\" class=\"square light b1\" stroke=\"none\" fill=\"#ffce9e\" /><use xlink:href=\"#white-knight\" transform=\"translate(60, 330)\" /><rect x=\"105\" y=\"330\" width=\"45\" height=\"45\" class=\"square dark c1\" stroke=\"none\" fill=\"#d18b47\" /><use xlink:href=\"#white-bishop\" transform=\"translate(105, 330)\" /><rect x=\"150\" y=\"330\" width=\"45\" height=\"45\" class=\"square light d1\" stroke=\"none\" fill=\"#ffce9e\" /><use xlink:href=\"#white-queen\" transform=\"translate(150, 330)\" /><rect x=\"195\" y=\"330\" width=\"45\" height=\"45\" class=\"square dark e1\" stroke=\"none\" fill=\"#d18b47\" /><use xlink:href=\"#white-king\" transform=\"translate(195, 330)\" /><rect x=\"240\" y=\"330\" width=\"45\" height=\"45\" class=\"square light f1\" stroke=\"none\" fill=\"#ffce9e\" /><use xlink:href=\"#white-bishop\" transform=\"translate(240, 330)\" /><rect x=\"285\" y=\"330\" width=\"45\" height=\"45\" class=\"square dark g1\" stroke=\"none\" fill=\"#d18b47\" /><rect x=\"330\" y=\"330\" width=\"45\" height=\"45\" class=\"square light h1\" stroke=\"none\" fill=\"#ffce9e\" /><use xlink:href=\"#white-rook\" transform=\"translate(330, 330)\" /><rect x=\"15\" y=\"285\" width=\"45\" height=\"45\" class=\"square light a2\" stroke=\"none\" fill=\"#ffce9e\" /><use xlink:href=\"#white-pawn\" transform=\"translate(15, 285)\" /><rect x=\"60\" y=\"285\" width=\"45\" height=\"45\" class=\"square dark b2\" stroke=\"none\" fill=\"#d18b47\" /><use xlink:href=\"#white-pawn\" transform=\"translate(60, 285)\" /><rect x=\"105\" y=\"285\" width=\"45\" height=\"45\" class=\"square light c2\" stroke=\"none\" fill=\"#ffce9e\" /><use xlink:href=\"#white-pawn\" transform=\"translate(105, 285)\" /><rect x=\"150\" y=\"285\" width=\"45\" height=\"45\" class=\"square dark lastmove d2\" stroke=\"none\" fill=\"#aaa23b\" /><rect x=\"195\" y=\"285\" width=\"45\" height=\"45\" class=\"square light e2\" stroke=\"none\" fill=\"#ffce9e\" /><rect x=\"240\" y=\"285\" width=\"45\" height=\"45\" class=\"square dark f2\" stroke=\"none\" fill=\"#d18b47\" /><use xlink:href=\"#white-pawn\" transform=\"translate(240, 285)\" /><rect x=\"285\" y=\"285\" width=\"45\" height=\"45\" class=\"square light g2\" stroke=\"none\" fill=\"#ffce9e\" /><use xlink:href=\"#white-pawn\" transform=\"translate(285, 285)\" /><rect x=\"330\" y=\"285\" width=\"45\" height=\"45\" class=\"square dark h2\" stroke=\"none\" fill=\"#d18b47\" /><use xlink:href=\"#white-pawn\" transform=\"translate(330, 285)\" /><rect x=\"15\" y=\"240\" width=\"45\" height=\"45\" class=\"square dark a3\" stroke=\"none\" fill=\"#d18b47\" /><rect x=\"60\" y=\"240\" width=\"45\" height=\"45\" class=\"square light b3\" stroke=\"none\" fill=\"#ffce9e\" /><rect x=\"105\" y=\"240\" width=\"45\" height=\"45\" class=\"square dark c3\" stroke=\"none\" fill=\"#d18b47\" /><rect x=\"150\" y=\"240\" width=\"45\" height=\"45\" class=\"square light d3\" stroke=\"none\" fill=\"#ffce9e\" /><rect x=\"195\" y=\"240\" width=\"45\" height=\"45\" class=\"square dark e3\" stroke=\"none\" fill=\"#d18b47\" /><rect x=\"240\" y=\"240\" width=\"45\" height=\"45\" class=\"square light f3\" stroke=\"none\" fill=\"#ffce9e\" /><use xlink:href=\"#white-knight\" transform=\"translate(240, 240)\" /><rect x=\"285\" y=\"240\" width=\"45\" height=\"45\" class=\"square dark g3\" stroke=\"none\" fill=\"#d18b47\" /><rect x=\"330\" y=\"240\" width=\"45\" height=\"45\" class=\"square light h3\" stroke=\"none\" fill=\"#ffce9e\" /><rect x=\"15\" y=\"195\" width=\"45\" height=\"45\" class=\"square light a4\" stroke=\"none\" fill=\"#ffce9e\" /><rect x=\"60\" y=\"195\" width=\"45\" height=\"45\" class=\"square dark b4\" stroke=\"none\" fill=\"#d18b47\" /><rect x=\"105\" y=\"195\" width=\"45\" height=\"45\" class=\"square light c4\" stroke=\"none\" fill=\"#ffce9e\" /><rect x=\"150\" y=\"195\" width=\"45\" height=\"45\" class=\"square dark lastmove d4\" stroke=\"none\" fill=\"#aaa23b\" /><use xlink:href=\"#white-pawn\" transform=\"translate(150, 195)\" /><rect x=\"195\" y=\"195\" width=\"45\" height=\"45\" class=\"square light e4\" stroke=\"none\" fill=\"#ffce9e\" /><use xlink:href=\"#white-pawn\" transform=\"translate(195, 195)\" /><rect x=\"240\" y=\"195\" width=\"45\" height=\"45\" class=\"square dark f4\" stroke=\"none\" fill=\"#d18b47\" /><rect x=\"285\" y=\"195\" width=\"45\" height=\"45\" class=\"square light g4\" stroke=\"none\" fill=\"#ffce9e\" /><rect x=\"330\" y=\"195\" width=\"45\" height=\"45\" class=\"square dark h4\" stroke=\"none\" fill=\"#d18b47\" /><rect x=\"15\" y=\"150\" width=\"45\" height=\"45\" class=\"square dark a5\" stroke=\"none\" fill=\"#d18b47\" /><rect x=\"60\" y=\"150\" width=\"45\" height=\"45\" class=\"square light b5\" stroke=\"none\" fill=\"#ffce9e\" /><rect x=\"105\" y=\"150\" width=\"45\" height=\"45\" class=\"square dark c5\" stroke=\"none\" fill=\"#d18b47\" /><use xlink:href=\"#black-pawn\" transform=\"translate(105, 150)\" /><rect x=\"150\" y=\"150\" width=\"45\" height=\"45\" class=\"square light d5\" stroke=\"none\" fill=\"#ffce9e\" /><rect x=\"195\" y=\"150\" width=\"45\" height=\"45\" class=\"square dark e5\" stroke=\"none\" fill=\"#d18b47\" /><rect x=\"240\" y=\"150\" width=\"45\" height=\"45\" class=\"square light f5\" stroke=\"none\" fill=\"#ffce9e\" /><rect x=\"285\" y=\"150\" width=\"45\" height=\"45\" class=\"square dark g5\" stroke=\"none\" fill=\"#d18b47\" /><rect x=\"330\" y=\"150\" width=\"45\" height=\"45\" class=\"square light h5\" stroke=\"none\" fill=\"#ffce9e\" /><rect x=\"15\" y=\"105\" width=\"45\" height=\"45\" class=\"square light a6\" stroke=\"none\" fill=\"#ffce9e\" /><rect x=\"60\" y=\"105\" width=\"45\" height=\"45\" class=\"square dark b6\" stroke=\"none\" fill=\"#d18b47\" /><rect x=\"105\" y=\"105\" width=\"45\" height=\"45\" class=\"square light c6\" stroke=\"none\" fill=\"#ffce9e\" /><use xlink:href=\"#black-knight\" transform=\"translate(105, 105)\" /><rect x=\"150\" y=\"105\" width=\"45\" height=\"45\" class=\"square dark d6\" stroke=\"none\" fill=\"#d18b47\" /><rect x=\"195\" y=\"105\" width=\"45\" height=\"45\" class=\"square light e6\" stroke=\"none\" fill=\"#ffce9e\" /><rect x=\"240\" y=\"105\" width=\"45\" height=\"45\" class=\"square dark f6\" stroke=\"none\" fill=\"#d18b47\" /><rect x=\"285\" y=\"105\" width=\"45\" height=\"45\" class=\"square light g6\" stroke=\"none\" fill=\"#ffce9e\" /><rect x=\"330\" y=\"105\" width=\"45\" height=\"45\" class=\"square dark h6\" stroke=\"none\" fill=\"#d18b47\" /><rect x=\"15\" y=\"60\" width=\"45\" height=\"45\" class=\"square dark a7\" stroke=\"none\" fill=\"#d18b47\" /><use xlink:href=\"#black-pawn\" transform=\"translate(15, 60)\" /><rect x=\"60\" y=\"60\" width=\"45\" height=\"45\" class=\"square light b7\" stroke=\"none\" fill=\"#ffce9e\" /><use xlink:href=\"#black-pawn\" transform=\"translate(60, 60)\" /><rect x=\"105\" y=\"60\" width=\"45\" height=\"45\" class=\"square dark c7\" stroke=\"none\" fill=\"#d18b47\" /><rect x=\"150\" y=\"60\" width=\"45\" height=\"45\" class=\"square light d7\" stroke=\"none\" fill=\"#ffce9e\" /><use xlink:href=\"#black-pawn\" transform=\"translate(150, 60)\" /><rect x=\"195\" y=\"60\" width=\"45\" height=\"45\" class=\"square dark e7\" stroke=\"none\" fill=\"#d18b47\" /><use xlink:href=\"#black-pawn\" transform=\"translate(195, 60)\" /><rect x=\"240\" y=\"60\" width=\"45\" height=\"45\" class=\"square light f7\" stroke=\"none\" fill=\"#ffce9e\" /><use xlink:href=\"#black-pawn\" transform=\"translate(240, 60)\" /><rect x=\"285\" y=\"60\" width=\"45\" height=\"45\" class=\"square dark g7\" stroke=\"none\" fill=\"#d18b47\" /><use xlink:href=\"#black-pawn\" transform=\"translate(285, 60)\" /><rect x=\"330\" y=\"60\" width=\"45\" height=\"45\" class=\"square light h7\" stroke=\"none\" fill=\"#ffce9e\" /><use xlink:href=\"#black-pawn\" transform=\"translate(330, 60)\" /><rect x=\"15\" y=\"15\" width=\"45\" height=\"45\" class=\"square light a8\" stroke=\"none\" fill=\"#ffce9e\" /><use xlink:href=\"#black-rook\" transform=\"translate(15, 15)\" /><rect x=\"60\" y=\"15\" width=\"45\" height=\"45\" class=\"square dark b8\" stroke=\"none\" fill=\"#d18b47\" /><rect x=\"105\" y=\"15\" width=\"45\" height=\"45\" class=\"square light c8\" stroke=\"none\" fill=\"#ffce9e\" /><use xlink:href=\"#black-bishop\" transform=\"translate(105, 15)\" /><rect x=\"150\" y=\"15\" width=\"45\" height=\"45\" class=\"square dark d8\" stroke=\"none\" fill=\"#d18b47\" /><use xlink:href=\"#black-queen\" transform=\"translate(150, 15)\" /><rect x=\"195\" y=\"15\" width=\"45\" height=\"45\" class=\"square light e8\" stroke=\"none\" fill=\"#ffce9e\" /><use xlink:href=\"#black-king\" transform=\"translate(195, 15)\" /><rect x=\"240\" y=\"15\" width=\"45\" height=\"45\" class=\"square dark f8\" stroke=\"none\" fill=\"#d18b47\" /><use xlink:href=\"#black-bishop\" transform=\"translate(240, 15)\" /><rect x=\"285\" y=\"15\" width=\"45\" height=\"45\" class=\"square light g8\" stroke=\"none\" fill=\"#ffce9e\" /><use xlink:href=\"#black-knight\" transform=\"translate(285, 15)\" /><rect x=\"330\" y=\"15\" width=\"45\" height=\"45\" class=\"square dark h8\" stroke=\"none\" fill=\"#d18b47\" /><use xlink:href=\"#black-rook\" transform=\"translate(330, 15)\" /><g transform=\"translate(20, 0) scale(0.75, 0.75)\" fill=\"#e5e5e5\" stroke=\"#e5e5e5\"><path d=\"M23.328 10.016q-1.742 0-2.414.398-.672.398-.672 1.36 0 .765.5 1.218.508.445 1.375.445 1.196 0 1.914-.843.727-.852.727-2.258v-.32zm2.867-.594v4.992h-1.437v-1.328q-.492.797-1.227 1.18-.734.375-1.797.375-1.343 0-2.14-.75-.79-.758-.79-2.024 0-1.476.985-2.226.992-.75 2.953-.75h2.016V8.75q0-.992-.656-1.531-.649-.547-1.829-.547-.75 0-1.46.18-.711.18-1.368.539V6.062q.79-.304 1.532-.453.742-.156 1.445-.156 1.898 0 2.836.984.937.985.937 2.985z\" /></g><g transform=\"translate(20, 375) scale(0.75, 0.75)\" fill=\"#e5e5e5\" stroke=\"#e5e5e5\"><path d=\"M23.328 10.016q-1.742 0-2.414.398-.672.398-.672 1.36 0 .765.5 1.218.508.445 1.375.445 1.196 0 1.914-.843.727-.852.727-2.258v-.32zm2.867-.594v4.992h-1.437v-1.328q-.492.797-1.227 1.18-.734.375-1.797.375-1.343 0-2.14-.75-.79-.758-.79-2.024 0-1.476.985-2.226.992-.75 2.953-.75h2.016V8.75q0-.992-.656-1.531-.649-.547-1.829-.547-.75 0-1.46.18-.711.18-1.368.539V6.062q.79-.304 1.532-.453.742-.156 1.445-.156 1.898 0 2.836.984.937.985.937 2.985z\" /></g><g transform=\"translate(65, 0) scale(0.75, 0.75)\" fill=\"#e5e5e5\" stroke=\"#e5e5e5\"><path d=\"M24.922 10.047q0-1.586-.656-2.485-.649-.906-1.79-.906-1.14 0-1.796.906-.649.899-.649 2.485 0 1.586.649 2.492.656.898 1.797.898 1.14 0 1.789-.898.656-.906.656-2.492zm-4.89-3.055q.452-.781 1.14-1.156.695-.383 1.656-.383 1.594 0 2.586 1.266 1 1.265 1 3.328 0 2.062-1 3.328-.992 1.266-2.586 1.266-.96 0-1.656-.375-.688-.383-1.14-1.164v1.312h-1.446V2.258h1.445z\" /></g><g transform=\"translate(65, 375) scale(0.75, 0.75)\" fill=\"#e5e5e5\" stroke=\"#e5e5e5\"><path d=\"M24.922 10.047q0-1.586-.656-2.485-.649-.906-1.79-.906-1.14 0-1.796.906-.649.899-.649 2.485 0 1.586.649 2.492.656.898 1.797.898 1.14 0 1.789-.898.656-.906.656-2.492zm-4.89-3.055q.452-.781 1.14-1.156.695-.383 1.656-.383 1.594 0 2.586 1.266 1 1.265 1 3.328 0 2.062-1 3.328-.992 1.266-2.586 1.266-.96 0-1.656-.375-.688-.383-1.14-1.164v1.312h-1.446V2.258h1.445z\" /></g><g transform=\"translate(110, 0) scale(0.75, 0.75)\" fill=\"#e5e5e5\" stroke=\"#e5e5e5\"><path d=\"M25.96 6v1.344q-.608-.336-1.226-.5-.609-.172-1.234-.172-1.398 0-2.172.89-.773.883-.773 2.485 0 1.601.773 2.492.774.883 2.172.883.625 0 1.234-.164.618-.172 1.227-.508v1.328q-.602.281-1.25.422-.64.14-1.367.14-1.977 0-3.14-1.242-1.165-1.242-1.165-3.351 0-2.14 1.172-3.367 1.18-1.227 3.227-1.227.664 0 1.296.14.633.134 1.227.407z\" /></g><g transform=\"translate(110, 375) scale(0.75, 0.75)\" fill=\"#e5e5e5\" stroke=\"#e5e5e5\"><path d=\"M25.96 6v1.344q-.608-.336-1.226-.5-.609-.172-1.234-.172-1.398 0-2.172.89-.773.883-.773 2.485 0 1.601.773 2.492.774.883 2.172.883.625 0 1.234-.164.618-.172 1.227-.508v1.328q-.602.281-1.25.422-.64.14-1.367.14-1.977 0-3.14-1.242-1.165-1.242-1.165-3.351 0-2.14 1.172-3.367 1.18-1.227 3.227-1.227.664 0 1.296.14.633.134 1.227.407z\" /></g><g transform=\"translate(155, 0) scale(0.75, 0.75)\" fill=\"#e5e5e5\" stroke=\"#e5e5e5\"><path d=\"M24.973 6.992V2.258h1.437v12.156h-1.437v-1.312q-.453.78-1.149 1.164-.687.375-1.656.375-1.586 0-2.586-1.266-.992-1.266-.992-3.328 0-2.063.992-3.328 1-1.266 2.586-1.266.969 0 1.656.383.696.375 1.149 1.156zm-4.899 3.055q0 1.586.649 2.492.656.898 1.797.898 1.14 0 1.796-.898.657-.906.657-2.492 0-1.586-.657-2.485-.656-.906-1.796-.906-1.141 0-1.797.906-.649.899-.649 2.485z\" /></g><g transform=\"translate(155, 375) scale(0.75, 0.75)\" fill=\"#e5e5e5\" stroke=\"#e5e5e5\"><path d=\"M24.973 6.992V2.258h1.437v12.156h-1.437v-1.312q-.453.78-1.149 1.164-.687.375-1.656.375-1.586 0-2.586-1.266-.992-1.266-.992-3.328 0-2.063.992-3.328 1-1.266 2.586-1.266.969 0 1.656.383.696.375 1.149 1.156zm-4.899 3.055q0 1.586.649 2.492.656.898 1.797.898 1.14 0 1.796-.898.657-.906.657-2.492 0-1.586-.657-2.485-.656-.906-1.796-.906-1.141 0-1.797.906-.649.899-.649 2.485z\" /></g><g transform=\"translate(200, 0) scale(0.75, 0.75)\" fill=\"#e5e5e5\" stroke=\"#e5e5e5\"><path d=\"M26.555 9.68v.703h-6.61q.094 1.484.89 2.265.806.774 2.235.774.828 0 1.602-.203.781-.203 1.547-.61v1.36q-.774.328-1.586.5-.813.172-1.649.172-2.093 0-3.32-1.22-1.219-1.218-1.219-3.296 0-2.148 1.157-3.406 1.164-1.266 3.132-1.266 1.766 0 2.79 1.14 1.03 1.134 1.03 3.087zm-1.438-.422q-.015-1.18-.664-1.883-.64-.703-1.703-.703-1.203 0-1.93.68-.718.68-.828 1.914z\" /></g><g transform=\"translate(200, 375) scale(0.75, 0.75)\" fill=\"#e5e5e5\" stroke=\"#e5e5e5\"><path d=\"M26.555 9.68v.703h-6.61q.094 1.484.89 2.265.806.774 2.235.774.828 0 1.602-.203.781-.203 1.547-.61v1.36q-.774.328-1.586.5-.813.172-1.649.172-2.093 0-3.32-1.22-1.219-1.218-1.219-3.296 0-2.148 1.157-3.406 1.164-1.266 3.132-1.266 1.766 0 2.79 1.14 1.03 1.134 1.03 3.087zm-1.438-.422q-.015-1.18-.664-1.883-.64-.703-1.703-.703-1.203 0-1.93.68-.718.68-.828 1.914z\" /></g><g transform=\"translate(245, 0) scale(0.75, 0.75)\" fill=\"#e5e5e5\" stroke=\"#e5e5e5\"><path d=\"M25.285 2.258v1.195H23.91q-.773 0-1.078.313-.297.312-.297 1.125v.773h2.367v1.117h-2.367v7.633H21.09V6.781h-1.375V5.664h1.375v-.61q0-1.46.68-2.124.68-.672 2.156-.672z\" /></g><g transform=\"translate(245, 375) scale(0.75, 0.75)\" fill=\"#e5e5e5\" stroke=\"#e5e5e5\"><path d=\"M25.285 2.258v1.195H23.91q-.773 0-1.078.313-.297.312-.297 1.125v.773h2.367v1.117h-2.367v7.633H21.09V6.781h-1.375V5.664h1.375v-.61q0-1.46.68-2.124.68-.672 2.156-.672z\" /></g><g transform=\"translate(290, 0) scale(0.75, 0.75)\" fill=\"#e5e5e5\" stroke=\"#e5e5e5\"><path d=\"M24.973 9.937q0-1.562-.649-2.421-.64-.86-1.804-.86-1.157 0-1.805.86-.64.859-.64 2.421 0 1.555.64 2.415.648.859 1.805.859 1.164 0 1.804-.86.649-.859.649-2.414zm1.437 3.391q0 2.234-.992 3.32-.992 1.094-3.04 1.094-.757 0-1.429-.117-.672-.11-1.304-.344v-1.398q.632.344 1.25.508.617.164 1.257.164 1.414 0 2.118-.743.703-.734.703-2.226v-.711q-.446.773-1.141 1.156-.695.383-1.664.383-1.61 0-2.594-1.227-.984-1.226-.984-3.25 0-2.03.984-3.257.985-1.227 2.594-1.227.969 0 1.664.383t1.14 1.156V5.664h1.438z\" /></g><g transform=\"translate(290, 375) scale(0.75, 0.75)\" fill=\"#e5e5e5\" stroke=\"#e5e5e5\"><path d=\"M24.973 9.937q0-1.562-.649-2.421-.64-.86-1.804-.86-1.157 0-1.805.86-.64.859-.64 2.421 0 1.555.64 2.415.648.859 1.805.859 1.164 0 1.804-.86.649-.859.649-2.414zm1.437 3.391q0 2.234-.992 3.32-.992 1.094-3.04 1.094-.757 0-1.429-.117-.672-.11-1.304-.344v-1.398q.632.344 1.25.508.617.164 1.257.164 1.414 0 2.118-.743.703-.734.703-2.226v-.711q-.446.773-1.141 1.156-.695.383-1.664.383-1.61 0-2.594-1.227-.984-1.226-.984-3.25 0-2.03.984-3.257.985-1.227 2.594-1.227.969 0 1.664.383t1.14 1.156V5.664h1.438z\" /></g><g transform=\"translate(335, 0) scale(0.75, 0.75)\" fill=\"#e5e5e5\" stroke=\"#e5e5e5\"><path d=\"M26.164 9.133v5.281h-1.437V9.18q0-1.243-.485-1.86-.484-.617-1.453-.617-1.164 0-1.836.742-.672.742-.672 2.024v4.945h-1.445V2.258h1.445v4.765q.516-.789 1.211-1.18.703-.39 1.617-.39 1.508 0 2.282.938.773.93.773 2.742z\" /></g><g transform=\"translate(335, 375) scale(0.75, 0.75)\" fill=\"#e5e5e5\" stroke=\"#e5e5e5\"><path d=\"M26.164 9.133v5.281h-1.437V9.18q0-1.243-.485-1.86-.484-.617-1.453-.617-1.164 0-1.836.742-.672.742-.672 2.024v4.945h-1.445V2.258h1.445v4.765q.516-.789 1.211-1.18.703-.39 1.617-.39 1.508 0 2.282.938.773.93.773 2.742z\" /></g><g transform=\"translate(0, 335) scale(0.75, 0.75)\" fill=\"#e5e5e5\" stroke=\"#e5e5e5\"><path d=\"M6.754 26.996h2.578v-8.898l-2.805.562v-1.437l2.79-.563h1.578v10.336h2.578v1.328h-6.72z\" /></g><g transform=\"translate(375, 335) scale(0.75, 0.75)\" fill=\"#e5e5e5\" stroke=\"#e5e5e5\"><path d=\"M6.754 26.996h2.578v-8.898l-2.805.562v-1.437l2.79-.563h1.578v10.336h2.578v1.328h-6.72z\" /></g><g transform=\"translate(0, 290) scale(0.75, 0.75)\" fill=\"#e5e5e5\" stroke=\"#e5e5e5\"><path d=\"M8.195 26.996h5.508v1.328H6.297v-1.328q.898-.93 2.445-2.492 1.555-1.57 1.953-2.024.758-.851 1.055-1.437.305-.594.305-1.164 0-.93-.657-1.516-.648-.586-1.695-.586-.742 0-1.57.258-.82.258-1.758.781v-1.593q.953-.383 1.781-.578.828-.196 1.516-.196 1.812 0 2.89.906 1.079.907 1.079 2.422 0 .72-.274 1.368-.265.64-.976 1.515-.196.227-1.243 1.313-1.046 1.078-2.953 3.023z\" /></g><g transform=\"translate(375, 290) scale(0.75, 0.75)\" fill=\"#e5e5e5\" stroke=\"#e5e5e5\"><path d=\"M8.195 26.996h5.508v1.328H6.297v-1.328q.898-.93 2.445-2.492 1.555-1.57 1.953-2.024.758-.851 1.055-1.437.305-.594.305-1.164 0-.93-.657-1.516-.648-.586-1.695-.586-.742 0-1.57.258-.82.258-1.758.781v-1.593q.953-.383 1.781-.578.828-.196 1.516-.196 1.812 0 2.89.906 1.079.907 1.079 2.422 0 .72-.274 1.368-.265.64-.976 1.515-.196.227-1.243 1.313-1.046 1.078-2.953 3.023z\" /></g><g transform=\"translate(0, 245) scale(0.75, 0.75)\" fill=\"#e5e5e5\" stroke=\"#e5e5e5\"><path d=\"M11.434 22.035q1.132.242 1.765 1.008.64.766.64 1.89 0 1.727-1.187 2.672-1.187.946-3.375.946-.734 0-1.515-.149-.774-.14-1.602-.43V26.45q.656.383 1.438.578.78.196 1.632.196 1.485 0 2.258-.586.782-.586.782-1.703 0-1.032-.727-1.61-.719-.586-2.008-.586h-1.36v-1.297h1.423q1.164 0 1.78-.46.618-.47.618-1.344 0-.899-.64-1.375-.633-.485-1.82-.485-.65 0-1.391.141-.743.14-1.633.437V16.95q.898-.25 1.68-.375.788-.125 1.484-.125 1.797 0 2.844.82 1.046.813 1.046 2.204 0 .968-.554 1.64-.555.664-1.578.922z\" /></g><g transform=\"translate(375, 245) scale(0.75, 0.75)\" fill=\"#e5e5e5\" stroke=\"#e5e5e5\"><path d=\"M11.434 22.035q1.132.242 1.765 1.008.64.766.64 1.89 0 1.727-1.187 2.672-1.187.946-3.375.946-.734 0-1.515-.149-.774-.14-1.602-.43V26.45q.656.383 1.438.578.78.196 1.632.196 1.485 0 2.258-.586.782-.586.782-1.703 0-1.032-.727-1.61-.719-.586-2.008-.586h-1.36v-1.297h1.423q1.164 0 1.78-.46.618-.47.618-1.344 0-.899-.64-1.375-.633-.485-1.82-.485-.65 0-1.391.141-.743.14-1.633.437V16.95q.898-.25 1.68-.375.788-.125 1.484-.125 1.797 0 2.844.82 1.046.813 1.046 2.204 0 .968-.554 1.64-.555.664-1.578.922z\" /></g><g transform=\"translate(0, 200) scale(0.75, 0.75)\" fill=\"#e5e5e5\" stroke=\"#e5e5e5\"><path d=\"M11.016 18.035L7.03 24.262h3.985zm-.414-1.375h1.984v7.602h1.664v1.312h-1.664v2.75h-1.57v-2.75H5.75v-1.523z\" /></g><g transform=\"translate(375, 200) scale(0.75, 0.75)\" fill=\"#e5e5e5\" stroke=\"#e5e5e5\"><path d=\"M11.016 18.035L7.03 24.262h3.985zm-.414-1.375h1.984v7.602h1.664v1.312h-1.664v2.75h-1.57v-2.75H5.75v-1.523z\" /></g><g transform=\"translate(0, 155) scale(0.75, 0.75)\" fill=\"#e5e5e5\" stroke=\"#e5e5e5\"><path d=\"M6.719 16.66h6.195v1.328h-4.75v2.86q.344-.118.688-.172.343-.063.687-.063 1.953 0 3.094 1.07 1.14 1.07 1.14 2.899 0 1.883-1.171 2.93-1.172 1.039-3.305 1.039-.735 0-1.5-.125-.758-.125-1.57-.375v-1.586q.703.383 1.453.57.75.188 1.586.188 1.351 0 2.14-.711.79-.711.79-1.93 0-1.219-.79-1.93-.789-.71-2.14-.71-.633 0-1.266.14-.625.14-1.281.438z\" /></g><g transform=\"translate(375, 155) scale(0.75, 0.75)\" fill=\"#e5e5e5\" stroke=\"#e5e5e5\"><path d=\"M6.719 16.66h6.195v1.328h-4.75v2.86q.344-.118.688-.172.343-.063.687-.063 1.953 0 3.094 1.07 1.14 1.07 1.14 2.899 0 1.883-1.171 2.93-1.172 1.039-3.305 1.039-.735 0-1.5-.125-.758-.125-1.57-.375v-1.586q.703.383 1.453.57.75.188 1.586.188 1.351 0 2.14-.711.79-.711.79-1.93 0-1.219-.79-1.93-.789-.71-2.14-.71-.633 0-1.266.14-.625.14-1.281.438z\" /></g><g transform=\"translate(0, 110) scale(0.75, 0.75)\" fill=\"#e5e5e5\" stroke=\"#e5e5e5\"><path d=\"M10.137 21.863q-1.063 0-1.688.727-.617.726-.617 1.992 0 1.258.617 1.992.625.727 1.688.727 1.062 0 1.68-.727.624-.734.624-1.992 0-1.266-.625-1.992-.617-.727-1.68-.727zm3.133-4.945v1.437q-.594-.28-1.204-.43-.601-.148-1.195-.148-1.562 0-2.39 1.055-.82 1.055-.938 3.188.46-.68 1.156-1.04.696-.367 1.531-.367 1.758 0 2.774 1.07 1.023 1.063 1.023 2.899 0 1.797-1.062 2.883-1.063 1.086-2.828 1.086-2.024 0-3.094-1.547-1.07-1.555-1.07-4.5 0-2.766 1.312-4.406 1.313-1.649 3.524-1.649.593 0 1.195.117.61.118 1.266.352z\" /></g><g transform=\"translate(375, 110) scale(0.75, 0.75)\" fill=\"#e5e5e5\" stroke=\"#e5e5e5\"><path d=\"M10.137 21.863q-1.063 0-1.688.727-.617.726-.617 1.992 0 1.258.617 1.992.625.727 1.688.727 1.062 0 1.68-.727.624-.734.624-1.992 0-1.266-.625-1.992-.617-.727-1.68-.727zm3.133-4.945v1.437q-.594-.28-1.204-.43-.601-.148-1.195-.148-1.562 0-2.39 1.055-.82 1.055-.938 3.188.46-.68 1.156-1.04.696-.367 1.531-.367 1.758 0 2.774 1.07 1.023 1.063 1.023 2.899 0 1.797-1.062 2.883-1.063 1.086-2.828 1.086-2.024 0-3.094-1.547-1.07-1.555-1.07-4.5 0-2.766 1.312-4.406 1.313-1.649 3.524-1.649.593 0 1.195.117.61.118 1.266.352z\" /></g><g transform=\"translate(0, 65) scale(0.75, 0.75)\" fill=\"#e5e5e5\" stroke=\"#e5e5e5\"><path d=\"M6.25 16.66h7.5v.672L9.516 28.324H7.867l3.985-10.336H6.25z\" /></g><g transform=\"translate(375, 65) scale(0.75, 0.75)\" fill=\"#e5e5e5\" stroke=\"#e5e5e5\"><path d=\"M6.25 16.66h7.5v.672L9.516 28.324H7.867l3.985-10.336H6.25z\" /></g><g transform=\"translate(0, 20) scale(0.75, 0.75)\" fill=\"#e5e5e5\" stroke=\"#e5e5e5\"><path d=\"M10 22.785q-1.125 0-1.773.602-.641.601-.641 1.656t.64 1.656q.649.602 1.774.602t1.773-.602q.649-.61.649-1.656 0-1.055-.649-1.656-.64-.602-1.773-.602zm-1.578-.672q-1.016-.25-1.586-.945-.563-.695-.563-1.695 0-1.399.993-2.211 1-.813 2.734-.813 1.742 0 2.734.813.993.812.993 2.21 0 1-.57 1.696-.563.695-1.571.945 1.14.266 1.773 1.04.641.773.641 1.89 0 1.695-1.04 2.602-1.03.906-2.96.906t-2.969-.906Q6 26.738 6 25.043q0-1.117.64-1.89.641-.774 1.782-1.04zm-.578-2.492q0 .906.562 1.414.57.508 1.594.508 1.016 0 1.586-.508.578-.508.578-1.414 0-.906-.578-1.414-.57-.508-1.586-.508-1.023 0-1.594.508-.562.508-.562 1.414z\" /></g><g transform=\"translate(375, 20) scale(0.75, 0.75)\" fill=\"#e5e5e5\" stroke=\"#e5e5e5\"><path d=\"M10 22.785q-1.125 0-1.773.602-.641.601-.641 1.656t.64 1.656q.649.602 1.774.602t1.773-.602q.649-.61.649-1.656 0-1.055-.649-1.656-.64-.602-1.773-.602zm-1.578-.672q-1.016-.25-1.586-.945-.563-.695-.563-1.695 0-1.399.993-2.211 1-.813 2.734-.813 1.742 0 2.734.813.993.812.993 2.21 0 1-.57 1.696-.563.695-1.571.945 1.14.266 1.773 1.04.641.773.641 1.89 0 1.695-1.04 2.602-1.03.906-2.96.906t-2.969-.906Q6 26.738 6 25.043q0-1.117.64-1.89.641-.774 1.782-1.04zm-.578-2.492q0 .906.562 1.414.57.508 1.594.508 1.016 0 1.586-.508.578-.508.578-1.414 0-.906-.578-1.414-.57-.508-1.586-.508-1.023 0-1.594.508-.562.508-.562 1.414z\" /></g></svg>"
      ],
      "text/plain": [
       "Board('r1bqkbnr/pp1ppppp/2n5/2p5/3PP3/5N2/PPP2PPP/RNBQKB1R b KQkq - 0 3')"
      ]
     },
     "execution_count": 8,
     "metadata": {},
     "output_type": "execute_result"
    }
   ],
   "source": [
    "### Play first 5 ply\n",
    "n = 5\n",
    "play_nth_move(game_rnd.game, n)"
   ]
  },
  {
   "cell_type": "code",
   "execution_count": 9,
   "metadata": {},
   "outputs": [
    {
     "data": {
      "text/plain": [
       "['Luc777',\n",
       " 'bendavidovich',\n",
       " 1,\n",
       " '1378',\n",
       " '1378',\n",
       " 'B32',\n",
       " 'B32 *',\n",
       " '2021.01.26',\n",
       " '300',\n",
       " 'https://www.chess.com/game/live/6349366503',\n",
       " 'data/user_games/Luc777/2021/01/game_41.txt']"
      ]
     },
     "execution_count": 9,
     "metadata": {},
     "output_type": "execute_result"
    }
   ],
   "source": [
    "game_rnd.describe()"
   ]
  },
  {
   "cell_type": "markdown",
   "metadata": {},
   "source": [
    "### Experimental: Game similarity\n",
    "(Working with clean pgn and moves)"
   ]
  },
  {
   "cell_type": "code",
   "execution_count": 11,
   "metadata": {},
   "outputs": [
    {
     "name": "stdout",
     "output_type": "stream",
     "text": [
      "1. e4 c5 2. Nf3 Nc6 3. d4 cxd4 4. Nxd4 e5 5. Nf3 Nf6 6. Nc3 Bb4 7. Bc4 O-O 8. Qd3 a6 9. Bg5 h6 10. Bh4 Be7 11. O-O-O b5 12. Bxf6 Bxf6 13. Bd5 Bb7 14. h4 Ra7 15. g4 Nb4 16. Qe2 d6 17. h5 Nxd5 18. Nxd5 Bg5+ 19. Kb1 Qa5 20. Nh4 b4 21. Qc4 Bxd5 22. Rxd5 Qc7 23. Qxc7 Rxc7 24. Rxd6 Ra8 25. Rd5 Bf4 26. Ng2 a5 27. Nxf4 exf4 28. g5 hxg5 29. Rxg5 a4 30. h6 g6 31. Rb5 b3 32. cxb3 axb3 33. Rxb3 Rc4 34. h7+ Kh8 35. Rb7 Rxe4 36. Rxf7\n",
      "\n",
      "['e4', 'c5', 'Nf3', 'Nc6', 'd4', 'cxd4', 'Nxd4', 'e5', 'Nf3', 'Nf6', 'Nc3', 'Bb4', 'Bc4', 'O-O', 'Qd3', 'a6', 'Bg5', 'h6', 'Bh4', 'Be7', 'O-O-O', 'b5', 'Bxf6', 'Bxf6', 'Bd5', 'Bb7', 'h4', 'Ra7', 'g4', 'Nb4', 'Qe2', 'd6', 'h5', 'Nxd5', 'Nxd5', 'Bg5+', 'Kb1', 'Qa5', 'Nh4', 'b4', 'Qc4', 'Bxd5', 'Rxd5', 'Qc7', 'Qxc7', 'Rxc7', 'Rxd6', 'Ra8', 'Rd5', 'Bf4', 'Ng2', 'a5', 'Nxf4', 'exf4', 'g5', 'hxg5', 'Rxg5', 'a4', 'h6', 'g6', 'Rb5', 'b3', 'cxb3', 'axb3', 'Rxb3', 'Rc4', 'h7+', 'Kh8', 'Rb7', 'Rxe4', 'Rxf7']\n"
     ]
    }
   ],
   "source": [
    "print(game_rnd.pgn)\n",
    "print()\n",
    "print(game_rnd.moves)"
   ]
  },
  {
   "cell_type": "code",
   "execution_count": 12,
   "metadata": {},
   "outputs": [
    {
     "data": {
      "text/plain": [
       "'1. e4 e5 2. Nf3 d6 3. d4 Bg4 4. dxe5 Bxf3 5. Qxf3 dxe5 6. Bc4 Nf6 7. Qb3 Qe7 8. Nc3 c6 9. Bg5 b5 10. Nxb5 cxb5 11. Bxb5+ Nbd7 12. O-O-O Rd8 13. Rxd7 Rxd7 14. Rd1 Qe6 15. Bxd7+ Nxd7 16. Qb8+ Nxb8 17. Rd8#'"
      ]
     },
     "execution_count": 12,
     "metadata": {},
     "output_type": "execute_result"
    }
   ],
   "source": [
    "# Opera Game\n",
    "opera_game = GameReader(\"data/opera_game.pgn\")\n",
    "opera_game.pgn"
   ]
  },
  {
   "cell_type": "markdown",
   "metadata": {},
   "source": [
    "### Comparing game similarity\n",
    "- Using sets of moves, separated by color.\n",
    "- Finding shared opening sequence in 2 games. "
   ]
  },
  {
   "cell_type": "code",
   "execution_count": 13,
   "metadata": {},
   "outputs": [],
   "source": [
    "def game_similarity(game_1_moves, game_2_moves):\n",
    "    \"\"\"Throw all moves into a bag, compare similarity (JS)\"\"\"\n",
    "    overlapping_moves = set(game_1_moves).intersection(set(game_2_moves))\n",
    "    return round(len(overlapping_moves)/len(set(game_1_moves)), 2)"
   ]
  },
  {
   "cell_type": "code",
   "execution_count": 14,
   "metadata": {},
   "outputs": [
    {
     "name": "stdout",
     "output_type": "stream",
     "text": [
      "['e4', 'e5', 'Nf3', 'd6', 'd4', 'Bg4', 'dxe5', 'Bxf3', 'Qxf3', 'dxe5', 'Bc4', 'Nf6', 'Qb3', 'Qe7', 'Nc3', 'c6', 'Bg5', 'b5', 'Nxb5', 'cxb5', 'Bxb5+', 'Nbd7', 'O-O-O', 'Rd8', 'Rxd7', 'Rxd7', 'Rd1', 'Qe6', 'Bxd7+', 'Nxd7', 'Qb8+', 'Nxb8', 'Rd8#']\n",
      "['e4', 'c5', 'Nf3', 'Nc6', 'd4', 'cxd4', 'Nxd4', 'e5', 'Nf3', 'Nf6', 'Nc3', 'Bb4', 'Bc4', 'O-O', 'Qd3', 'a6', 'Bg5', 'h6', 'Bh4', 'Be7', 'O-O-O', 'b5', 'Bxf6', 'Bxf6', 'Bd5', 'Bb7', 'h4', 'Ra7', 'g4', 'Nb4', 'Qe2', 'd6', 'h5', 'Nxd5', 'Nxd5', 'Bg5+', 'Kb1', 'Qa5', 'Nh4', 'b4', 'Qc4', 'Bxd5', 'Rxd5', 'Qc7', 'Qxc7', 'Rxc7', 'Rxd6', 'Ra8', 'Rd5', 'Bf4', 'Ng2', 'a5', 'Nxf4', 'exf4', 'g5', 'hxg5', 'Rxg5', 'a4', 'h6', 'g6', 'Rb5', 'b3', 'cxb3', 'axb3', 'Rxb3', 'Rc4', 'h7+', 'Kh8', 'Rb7', 'Rxe4', 'Rxf7']\n",
      "0.35\n"
     ]
    }
   ],
   "source": [
    "# Similarity to opera_game\n",
    "print(opera_game.moves)\n",
    "print(game_rnd.moves)\n",
    "print(game_similarity(opera_game.moves, game_rnd.moves))"
   ]
  },
  {
   "cell_type": "code",
   "execution_count": 15,
   "metadata": {},
   "outputs": [],
   "source": [
    "def game_similarity_colorful(game_1_moves, game_2_moves):\n",
    "    \"\"\"Get the overlap between white's moves and black's moves separately\"\"\"\n",
    "    white_moves = game_1_moves[0::2]\n",
    "    black_moves = game_1_moves[1::2]\n",
    "    overlap_white = game_similarity(game_1_moves[0::2], game_2_moves[0::2])\n",
    "    overlap_black = game_similarity(game_1_moves[1::2], game_2_moves[1::2])\n",
    "    \n",
    "    print(round(overlap_white,2))\n",
    "    print(round(overlap_black,2))"
   ]
  },
  {
   "cell_type": "code",
   "execution_count": 16,
   "metadata": {},
   "outputs": [
    {
     "name": "stdout",
     "output_type": "stream",
     "text": [
      "0.41\n",
      "0.25\n"
     ]
    }
   ],
   "source": [
    "game_similarity_colorful(opera_game.moves, game_rnd.moves)"
   ]
  },
  {
   "cell_type": "code",
   "execution_count": 17,
   "metadata": {},
   "outputs": [],
   "source": [
    "def longest_common_sequence(game_1_moves, game_2_moves):\n",
    "    \"\"\"Get length of the longest_common_sequence between 2 games\"\"\"\n",
    "    for i, (m1, m2) in enumerate(zip(game_1_moves, game_2_moves)):\n",
    "        if m1 == m2:\n",
    "            continue\n",
    "        else:\n",
    "            return game_1_moves[:i]\n",
    "    return game_1_moves "
   ]
  },
  {
   "cell_type": "code",
   "execution_count": 18,
   "metadata": {},
   "outputs": [
    {
     "name": "stdout",
     "output_type": "stream",
     "text": [
      "['e4']\n",
      "1\n"
     ]
    }
   ],
   "source": [
    "shared_opening = longest_common_sequence(opera_game.moves, game_rnd.moves)\n",
    "print(shared_opening)\n",
    "print(len(shared_opening))"
   ]
  },
  {
   "cell_type": "code",
   "execution_count": null,
   "metadata": {},
   "outputs": [],
   "source": []
  }
 ],
 "metadata": {
  "kernelspec": {
   "display_name": "Python 3",
   "language": "python",
   "name": "python3"
  },
  "language_info": {
   "codemirror_mode": {
    "name": "ipython",
    "version": 3
   },
   "file_extension": ".py",
   "mimetype": "text/x-python",
   "name": "python",
   "nbconvert_exporter": "python",
   "pygments_lexer": "ipython3",
   "version": "3.8.5"
  }
 },
 "nbformat": 4,
 "nbformat_minor": 4
}
